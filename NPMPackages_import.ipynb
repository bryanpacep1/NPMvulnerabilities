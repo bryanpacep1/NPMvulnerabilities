{
 "cells": [
  {
   "cell_type": "code",
   "execution_count": 7,
   "metadata": {},
   "outputs": [],
   "source": [
    "import gzip, json\n",
    "with gzip.open('/data/NPMvulnerabilities/NPMPackages.json.gz', 'rb') as f:\n",
    "    fc = f.read().decode(\"utf-8\")\n",
    "from json import JSONDecoder, JSONDecodeError\n",
    "import re\n",
    "\n",
    "NOT_WHITESPACE = re.compile(r'[^\\s]')\n",
    "\n",
    "def decode_stacked(document, pos=0, decoder=JSONDecoder()):\n",
    "    while True:\n",
    "        match = NOT_WHITESPACE.search(document, pos)\n",
    "        if not match:\n",
    "            return\n",
    "        pos = match.start()\n",
    "\n",
    "        try:\n",
    "            obj, pos = decoder.raw_decode(document, pos)\n",
    "        except JSONDecodeError:\n",
    "            # do something sensible if there's some error\n",
    "            print(\"DECODE_STACKED() FAILED\")\n",
    "            pass\n",
    "        yield obj"
   ]
  },
  {
   "cell_type": "code",
   "execution_count": 9,
   "metadata": {},
   "outputs": [],
   "source": [
    "for obj in decode_stacked(fc):\n",
    "    ind = 0\n",
    "    try: versions = list(obj['versions'].keys())\n",
    "    except: continue\n",
    "    try: release_dates = obj['time']\n",
    "    except: continue\n",
    "    info = {key: {'release_date': release_dates[key]} for key in release_dates if key not in ['created', 'modified']}\n",
    "    for key in versions:\n",
    "        try:\n",
    "            info[key]['dependencies'] = list(obj['versions'][key]['dependencies'].keys())\n",
    "            if pkg in info[key]['dependencies']: ind = 1\n",
    "        except: continue\n",
    "    if ind :\n",
    "        dependent[pkg].append({obj['name']: info})"
   ]
  },
  {
   "cell_type": "code",
   "execution_count": null,
   "metadata": {},
   "outputs": [],
   "source": [
    "for k in dependent.keys():\n",
    "    if k == 'ajv-keywords':\n",
    "        print(k, dependent[k][0])\n",
    "        break"
   ]
  },
  {
   "cell_type": "code",
   "execution_count": null,
   "metadata": {},
   "outputs": [],
   "source": [
    "#user-info\n",
    "#    pji\n",
    "#        version 1.0\n",
    "#        date\n",
    "#        \n",
    "#        version 1.1\n",
    "#        date\n",
    "#    gifnoc\n",
    "#        version\n",
    "#        date\n",
    "        "
   ]
  },
  {
   "cell_type": "code",
   "execution_count": 26,
   "metadata": {},
   "outputs": [],
   "source": [
    "#pkgs = ['htmlnano', 'object.map', 'babylon-walk', 'wix-style-react', 'threads', 'minimist-options', 'lead', '@babel/polyfill', '@babel/helper-define-map', 'cloudscraper']\n",
    "pkgs = ['ajv-keywords']   \n",
    "dependent = {}\n",
    "for pkg in pkgs:\n",
    "    dependent[pkg] = []\n",
    "    for obj in decode_stacked(fc):\n",
    "        ind = 0\n",
    "        try: versions = list(obj['versions'].keys())\n",
    "        except: continue\n",
    "        try: release_dates = obj['time']\n",
    "        except: continue\n",
    "        info = {key: {'release_date': release_dates[key]} for key in release_dates if key not in ['created', 'modified']}\n",
    "        for key in versions:\n",
    "            try:\n",
    "                info[key]['dependencies'] = list(obj['versions'][key]['dependencies'].keys())\n",
    "                if pkg in info[key]['dependencies']: ind = 1\n",
    "            except: continue\n",
    "        if ind :\n",
    "            dependent[pkg].append({obj['name']})"
   ]
  },
  {
   "cell_type": "code",
   "execution_count": 27,
   "metadata": {},
   "outputs": [
    {
     "name": "stdout",
     "output_type": "stream",
     "text": [
      "ajv-keywords [{'jsonscript-proxy'}, {'senasaikou-yeoman'}, {'webpack-egoist'}, {'alex-d.js'}, {'advanced-image-loader'}, {'webpack-addons-ylvis'}, {'primeng-custom'}, {'jicli'}, {'@lgeiger/electron-builder'}, {'@touched/map-tool-project'}, {'generator-arc'}, {'node-private-tools'}, {'fhir2'}, {'webpack-ie8'}, {'mocoolka-tools'}, {'misstep'}, {'@cysonius/schema-utils'}, {'ng2-dnd-kokatsuna'}, {'qweb-client'}, {'@johnf/electron-builder'}]\n",
      "len =  157\n"
     ]
    }
   ],
   "source": [
    "for k in dependent.keys():\n",
    "    if k == 'ajv-keywords':\n",
    "        print(k, dependent[k][:20])\n",
    "        print(\"len = \", len(dependent[k]))\n",
    "        break"
   ]
  },
  {
   "cell_type": "code",
   "execution_count": null,
   "metadata": {},
   "outputs": [],
   "source": []
  },
  {
   "cell_type": "code",
   "execution_count": null,
   "metadata": {},
   "outputs": [],
   "source": []
  }
 ],
 "metadata": {
  "kernelspec": {
   "display_name": "Python 3",
   "language": "python",
   "name": "python3"
  },
  "language_info": {
   "codemirror_mode": {
    "name": "ipython",
    "version": 3
   },
   "file_extension": ".py",
   "mimetype": "text/x-python",
   "name": "python",
   "nbconvert_exporter": "python",
   "pygments_lexer": "ipython3",
   "version": "3.5.2"
  }
 },
 "nbformat": 4,
 "nbformat_minor": 2
}
