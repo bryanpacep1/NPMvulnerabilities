{
 "cells": [
  {
   "cell_type": "code",
   "execution_count": null,
   "metadata": {},
   "outputs": [],
   "source": [
    "import gzip, json\n",
    "with gzip.open('/data/NPMvulnerabilities/NPMPackages.json.gz', 'rb') as f:\n",
    "    fc = f.read().decode(\"utf-8\")\n",
    "from json import JSONDecoder, JSONDecodeError\n",
    "import re\n",
    "\n",
    "NOT_WHITESPACE = re.compile(r'[^\\s]')\n",
    "\n",
    "def decode_stacked(document, pos=0, decoder=JSONDecoder()):\n",
    "    while True:\n",
    "        match = NOT_WHITESPACE.search(document, pos)\n",
    "        if not match:\n",
    "            return\n",
    "        pos = match.start()\n",
    "\n",
    "        try:\n",
    "            obj, pos = decoder.raw_decode(document, pos)\n",
    "        except JSONDecodeError:\n",
    "            # do something sensible if there's some error\n",
    "            print(\"DECODE_STACKED() FAILED\")\n",
    "            pass\n",
    "        yield obj"
   ]
  },
  {
   "cell_type": "code",
   "execution_count": null,
   "metadata": {},
   "outputs": [],
   "source": [
    "#I don't think this is still needed\n",
    "for obj in decode_stacked(fc):\n",
    "    ind = 0\n",
    "    try: versions = list(obj['versions'].keys())\n",
    "    except: continue\n",
    "    try: release_dates = obj['time']\n",
    "    except: continue\n",
    "    info = {key: {'release_date': release_dates[key]} for key in release_dates if key not in ['created', 'modified']}\n",
    "    for key in versions:\n",
    "        try:\n",
    "            info[key]['dependencies'] = list(obj['versions'][key]['dependencies'].keys())\n",
    "            if pkg in info[key]['dependencies']: ind = 1\n",
    "        except: continue\n",
    "    if ind :\n",
    "        dependent[pkg].append({obj['name']: info})"
   ]
  },
  {
   "cell_type": "code",
   "execution_count": null,
   "metadata": {},
   "outputs": [],
   "source": [
    "for k in dependent.keys():\n",
    "    if k == 'ajv-keywords':\n",
    "        print(k, dependent[k][0])\n",
    "        break"
   ]
  },
  {
   "cell_type": "code",
   "execution_count": null,
   "metadata": {},
   "outputs": [],
   "source": [
    "#user-info\n",
    "#    pji\n",
    "#        version 1.0\n",
    "#        date\n",
    "#        \n",
    "#        version 1.1\n",
    "#        date\n",
    "#    gifnoc\n",
    "#        version\n",
    "#        date\n",
    "        "
   ]
  },
  {
   "cell_type": "code",
   "execution_count": null,
   "metadata": {},
   "outputs": [],
   "source": [
    "#pkgs = ['htmlnano', 'object.map', 'babylon-walk', 'wix-style-react', 'threads', 'minimist-options', 'lead', '@babel/polyfill', '@babel/helper-define-map', 'cloudscraper']\n",
    "pkgs = ['ajv-keywords']   \n",
    "dependent = {}\n",
    "for pkg in pkgs:\n",
    "    dependent[pkg] = []\n",
    "    for obj in decode_stacked(fc):\n",
    "        ind = 0\n",
    "        try: versions = list(obj['versions'].keys())\n",
    "        except: continue\n",
    "        try: release_dates = obj['time']\n",
    "        except: continue\n",
    "        info = {key: {'release_date': release_dates[key]} for key in release_dates if key not in ['created', 'modified']}\n",
    "        for key in versions:\n",
    "            try:\n",
    "                info[key]['dependencies'] = list(obj['versions'][key]['dependencies'].keys())\n",
    "                if pkg in info[key]['dependencies']: ind = 1\n",
    "            except: continue\n",
    "        if ind :\n",
    "            dependent[pkg].append(obj['name'])"
   ]
  },
  {
   "cell_type": "code",
   "execution_count": null,
   "metadata": {},
   "outputs": [],
   "source": [
    "for k in dependent.keys():\n",
    "    for i in dependent[k]:\n",
    "        print(i)\n",
    "        #print(k, dependent[k][:20])\n",
    "        #print(\"len = \", len(dependent[k]))\n",
    "        #break"
   ]
  },
  {
   "cell_type": "code",
   "execution_count": null,
   "metadata": {},
   "outputs": [],
   "source": [
    "#ajv-keywords\n",
    "    #jsconscript-proxy\n",
    "    #senasaikou-yeoman\n",
    "    #webpack-egoist\n",
    "#user-info\n",
    "    #ajv-keywords\n",
    "        "
   ]
  },
  {
   "cell_type": "code",
   "execution_count": null,
   "metadata": {},
   "outputs": [],
   "source": [
    "for k in dependent.keys():\n",
    "    print(dependent[k][:20])\n",
    "    print(\"len = \", len(dependent[k]))\n",
    "    break"
   ]
  },
  {
   "cell_type": "code",
   "execution_count": 79,
   "metadata": {},
   "outputs": [
    {
     "name": "stdout",
     "output_type": "stream",
     "text": [
      "1\n",
      "{'dl': [{'end': '2015-03-08', 'downloads': 0, 'start': '2015-03-01'}, {'end': '2015-03-15', 'downloads': 0, 'start': '2015-03-08'}, {'end': '2015-03-22', 'downloads': 0, 'start': '2015-03-15'}, {'end': '2015-03-29', 'downloads': 0, 'start': '2015-03-22'}, {'end': '2015-04-05', 'downloads': 0, 'start': '2015-03-29'}, {'end': '2015-04-12', 'downloads': 0, 'start': '2015-04-05'}, {'end': '2015-04-19', 'downloads': 0, 'start': '2015-04-12'}, {'end': '2015-04-26', 'downloads': 0, 'start': '2015-04-19'}, {'end': '2015-05-03', 'downloads': 0, 'start': '2015-04-26'}, {'end': '2015-05-10', 'downloads': 0, 'start': '2015-05-03'}, {'end': '2015-05-17', 'downloads': 0, 'start': '2015-05-10'}, {'end': '2015-05-24', 'downloads': 0, 'start': '2015-05-17'}, {'end': '2015-05-31', 'downloads': 0, 'start': '2015-05-24'}, {'end': '2015-06-07', 'downloads': 0, 'start': '2015-05-31'}, {'end': '2015-06-14', 'downloads': 0, 'start': '2015-06-07'}, {'end': '2015-06-21', 'downloads': 0, 'start': '2015-06-14'}, {'end': '2015-06-28', 'downloads': 0, 'start': '2015-06-21'}, {'end': '2015-07-05', 'downloads': 0, 'start': '2015-06-28'}, {'end': '2015-07-12', 'downloads': 0, 'start': '2015-07-05'}, {'end': '2015-07-19', 'downloads': 0, 'start': '2015-07-12'}, {'end': '2015-07-26', 'downloads': 0, 'start': '2015-07-19'}, {'end': '2015-08-02', 'downloads': 0, 'start': '2015-07-26'}, {'end': '2015-08-09', 'downloads': 0, 'start': '2015-08-02'}, {'end': '2015-08-16', 'downloads': 0, 'start': '2015-08-09'}, {'end': '2015-08-23', 'downloads': 0, 'start': '2015-08-16'}, {'end': '2015-08-30', 'downloads': 0, 'start': '2015-08-23'}, {'end': '2015-09-06', 'downloads': 0, 'start': '2015-08-30'}, {'end': '2015-09-13', 'downloads': 0, 'start': '2015-09-06'}, {'end': '2015-09-20', 'downloads': 0, 'start': '2015-09-13'}, {'end': '2015-09-27', 'downloads': 0, 'start': '2015-09-20'}, {'end': '2015-10-04', 'downloads': 0, 'start': '2015-09-27'}, {'end': '2015-10-11', 'downloads': 0, 'start': '2015-10-04'}, {'end': '2015-10-18', 'downloads': 0, 'start': '2015-10-11'}, {'end': '2015-10-25', 'downloads': 0, 'start': '2015-10-18'}, {'end': '2015-11-01', 'downloads': 0, 'start': '2015-10-25'}, {'end': '2015-11-08', 'downloads': 0, 'start': '2015-11-01'}, {'end': '2015-11-15', 'downloads': 0, 'start': '2015-11-08'}, {'end': '2015-11-22', 'downloads': 0, 'start': '2015-11-15'}, {'end': '2015-11-29', 'downloads': 0, 'start': '2015-11-22'}, {'end': '2015-12-06', 'downloads': 0, 'start': '2015-11-29'}, {'end': '2015-12-13', 'downloads': 0, 'start': '2015-12-06'}, {'end': '2015-12-20', 'downloads': 0, 'start': '2015-12-13'}, {'end': '2015-12-27', 'downloads': 0, 'start': '2015-12-20'}, {'end': '2016-01-03', 'downloads': 0, 'start': '2015-12-27'}, {'end': '2016-01-10', 'downloads': 0, 'start': '2016-01-03'}, {'end': '2016-01-17', 'downloads': 0, 'start': '2016-01-10'}, {'end': '2016-01-24', 'downloads': 0, 'start': '2016-01-17'}, {'end': '2016-01-31', 'downloads': 0, 'start': '2016-01-24'}, {'end': '2016-02-07', 'downloads': 0, 'start': '2016-01-31'}, {'end': '2016-02-14', 'downloads': 0, 'start': '2016-02-07'}, {'end': '2016-02-21', 'downloads': 0, 'start': '2016-02-14'}, {'end': '2016-02-28', 'downloads': 0, 'start': '2016-02-21'}, {'end': '2016-03-06', 'downloads': 0, 'start': '2016-02-28'}, {'end': '2016-03-13', 'downloads': 0, 'start': '2016-03-06'}, {'end': '2016-03-20', 'downloads': 0, 'start': '2016-03-13'}, {'end': '2016-03-27', 'downloads': 0, 'start': '2016-03-20'}, {'end': '2016-04-03', 'downloads': 0, 'start': '2016-03-27'}, {'end': '2016-04-10', 'downloads': 0, 'start': '2016-04-03'}, {'end': '2016-04-17', 'downloads': 0, 'start': '2016-04-10'}, {'end': '2016-04-24', 'downloads': 0, 'start': '2016-04-17'}, {'end': '2016-05-01', 'downloads': 0, 'start': '2016-04-24'}, {'end': '2016-05-08', 'downloads': 0, 'start': '2016-05-01'}, {'end': '2016-05-15', 'downloads': 0, 'start': '2016-05-08'}, {'end': '2016-05-22', 'downloads': 0, 'start': '2016-05-15'}, {'end': '2016-05-29', 'downloads': 0, 'start': '2016-05-22'}, {'end': '2016-06-05', 'downloads': 65, 'start': '2016-05-29'}, {'end': '2016-06-12', 'downloads': 141, 'start': '2016-06-05'}, {'end': '2016-06-19', 'downloads': 22, 'start': '2016-06-12'}, {'end': '2016-06-26', 'downloads': 16, 'start': '2016-06-19'}, {'end': '2016-07-03', 'downloads': 18, 'start': '2016-06-26'}, {'end': '2016-07-10', 'downloads': 37, 'start': '2016-07-03'}, {'end': '2016-07-17', 'downloads': 1, 'start': '2016-07-10'}, {'end': '2016-07-24', 'downloads': 10, 'start': '2016-07-17'}, {'end': '2016-07-31', 'downloads': 2, 'start': '2016-07-24'}, {'end': '2016-08-07', 'downloads': 1, 'start': '2016-07-31'}, {'end': '2016-08-14', 'downloads': 25, 'start': '2016-08-07'}, {'end': '2016-08-21', 'downloads': 13, 'start': '2016-08-14'}, {'end': '2016-08-28', 'downloads': 14, 'start': '2016-08-21'}, {'end': '2016-09-04', 'downloads': 9, 'start': '2016-08-28'}, {'end': '2016-09-11', 'downloads': 14, 'start': '2016-09-04'}, {'end': '2016-09-18', 'downloads': 43658, 'start': '2016-09-11'}, {'end': '2016-09-25', 'downloads': 585602, 'start': '2016-09-18'}, {'end': '2016-10-02', 'downloads': 626524, 'start': '2016-09-25'}, {'end': '2016-10-09', 'downloads': 552166, 'start': '2016-10-02'}, {'end': '2016-10-16', 'downloads': 590936, 'start': '2016-10-09'}, {'end': '2016-10-23', 'downloads': 618541, 'start': '2016-10-16'}, {'end': '2016-10-30', 'downloads': 656800, 'start': '2016-10-23'}, {'end': '2016-11-06', 'downloads': 669943, 'start': '2016-10-30'}, {'end': '2016-11-13', 'downloads': 662118, 'start': '2016-11-06'}, {'end': '2016-11-20', 'downloads': 760550, 'start': '2016-11-13'}, {'end': '2016-11-27', 'downloads': 680389, 'start': '2016-11-20'}, {'end': '2016-12-04', 'downloads': 790618, 'start': '2016-11-27'}, {'end': '2016-12-11', 'downloads': 875892, 'start': '2016-12-04'}, {'end': '2016-12-18', 'downloads': 847359, 'start': '2016-12-11'}, {'end': '2016-12-25', 'downloads': 760217, 'start': '2016-12-18'}, {'end': '2017-01-01', 'downloads': 524767, 'start': '2016-12-25'}, {'end': '2017-01-08', 'downloads': 802813, 'start': '2017-01-01'}, {'end': '2017-01-15', 'downloads': 1007332, 'start': '2017-01-08'}, {'end': '2017-01-22', 'downloads': 993715, 'start': '2017-01-15'}, {'end': '2017-01-29', 'downloads': 1120404, 'start': '2017-01-22'}, {'end': '2017-02-05', 'downloads': 1148247, 'start': '2017-01-29'}, {'end': '2017-02-12', 'downloads': 1185773, 'start': '2017-02-05'}, {'end': '2017-02-19', 'downloads': 1215608, 'start': '2017-02-12'}, {'end': '2017-02-26', 'downloads': 1218946, 'start': '2017-02-19'}, {'end': '2017-03-05', 'downloads': 1370401, 'start': '2017-02-26'}, {'end': '2017-03-12', 'downloads': 1407520, 'start': '2017-03-05'}, {'end': '2017-03-19', 'downloads': 1383167, 'start': '2017-03-12'}, {'end': '2017-03-26', 'downloads': 1512765, 'start': '2017-03-19'}, {'end': '2017-04-02', 'downloads': 1478614, 'start': '2017-03-26'}, {'end': '2017-04-09', 'downloads': 1474017, 'start': '2017-04-02'}, {'end': '2017-04-16', 'downloads': 1395404, 'start': '2017-04-09'}, {'end': '2017-04-23', 'downloads': 1408454, 'start': '2017-04-16'}, {'end': '2017-04-30', 'downloads': 1591995, 'start': '2017-04-23'}, {'end': '2017-05-07', 'downloads': 1493651, 'start': '2017-04-30'}, {'end': '2017-05-14', 'downloads': 1568194, 'start': '2017-05-07'}, {'end': '2017-05-21', 'downloads': 1570284, 'start': '2017-05-14'}, {'end': '2017-05-28', 'downloads': 1526229, 'start': '2017-05-21'}, {'end': '2017-06-04', 'downloads': 1594896, 'start': '2017-05-28'}, {'end': '2017-06-11', 'downloads': 1660136, 'start': '2017-06-04'}, {'end': '2017-06-18', 'downloads': 1700733, 'start': '2017-06-11'}, {'end': '2017-06-25', 'downloads': 1885984, 'start': '2017-06-18'}, {'end': '2017-07-02', 'downloads': 1908055, 'start': '2017-06-25'}, {'end': '2017-07-09', 'downloads': 1793007, 'start': '2017-07-02'}, {'end': '2017-07-16', 'downloads': 2047739, 'start': '2017-07-09'}, {'end': '2017-07-23', 'downloads': 2081068, 'start': '2017-07-16'}, {'end': '2017-07-30', 'downloads': 2131891, 'start': '2017-07-23'}, {'end': '2017-08-06', 'downloads': 2011626, 'start': '2017-07-30'}, {'end': '2017-08-13', 'downloads': 2224814, 'start': '2017-08-06'}, {'end': '2017-08-20', 'downloads': 2244390, 'start': '2017-08-13'}, {'end': '2017-08-27', 'downloads': 2336006, 'start': '2017-08-20'}, {'end': '2017-09-03', 'downloads': 2395787, 'start': '2017-08-27'}, {'end': '2017-09-10', 'downloads': 2459124, 'start': '2017-09-03'}, {'end': '2017-09-17', 'downloads': 2699292, 'start': '2017-09-10'}, {'end': '2017-09-24', 'downloads': 2705246, 'start': '2017-09-17'}, {'end': '2017-10-01', 'downloads': 2804841, 'start': '2017-09-24'}, {'end': '2017-10-08', 'downloads': 2817324, 'start': '2017-10-01'}, {'end': '2017-10-15', 'downloads': 2924676, 'start': '2017-10-08'}, {'end': '2017-10-22', 'downloads': 3015281, 'start': '2017-10-15'}, {'end': '2017-10-29', 'downloads': 3158563, 'start': '2017-10-22'}, {'end': '2017-11-05', 'downloads': 3313171, 'start': '2017-10-29'}, {'end': '2017-11-12', 'downloads': 3374855, 'start': '2017-11-05'}, {'end': '2017-11-19', 'downloads': 3345852, 'start': '2017-11-12'}, {'end': '2017-11-26', 'downloads': 2931116, 'start': '2017-11-19'}, {'end': '2017-12-03', 'downloads': 3308991, 'start': '2017-11-26'}, {'end': '2017-12-10', 'downloads': 3273941, 'start': '2017-12-03'}, {'end': '2017-12-17', 'downloads': 3262463, 'start': '2017-12-10'}, {'end': '2017-12-24', 'downloads': 3121617, 'start': '2017-12-17'}, {'end': '2017-12-31', 'downloads': 2104675, 'start': '2017-12-24'}, {'end': '2018-01-07', 'downloads': 2558443, 'start': '2017-12-31'}, {'end': '2018-01-14', 'downloads': 3280826, 'start': '2018-01-07'}, {'end': '2018-01-21', 'downloads': 3321982, 'start': '2018-01-14'}, {'end': '2018-01-28', 'downloads': 3450694, 'start': '2018-01-21'}, {'end': '2018-02-04', 'downloads': 3606940, 'start': '2018-01-28'}, {'end': '2018-02-11', 'downloads': 3668498, 'start': '2018-02-04'}, {'end': '2018-02-18', 'downloads': 4197495, 'start': '2018-02-11'}, {'end': '2018-02-25', 'downloads': 4291011, 'start': '2018-02-18'}, {'end': '2018-03-04', 'downloads': 4628209, 'start': '2018-02-25'}, {'end': '2018-03-11', 'downloads': 4760128, 'start': '2018-03-04'}, {'end': '2018-03-18', 'downloads': 4832944, 'start': '2018-03-11'}, {'end': '2018-03-25', 'downloads': 4987719, 'start': '2018-03-18'}, {'end': '2018-04-01', 'downloads': 4751741, 'start': '2018-03-25'}, {'end': '2018-04-08', 'downloads': 4673596, 'start': '2018-04-01'}, {'end': '2018-04-15', 'downloads': 5023239, 'start': '2018-04-08'}, {'end': '2018-04-22', 'downloads': 5166374, 'start': '2018-04-15'}, {'end': '2018-04-29', 'downloads': 5146076, 'start': '2018-04-22'}, {'end': '2018-05-06', 'downloads': 5073370, 'start': '2018-04-29'}, {'end': '2018-05-13', 'downloads': 5320614, 'start': '2018-05-06'}, {'end': '2018-05-20', 'downloads': 5766727, 'start': '2018-05-13'}, {'end': '2018-05-27', 'downloads': 5462805, 'start': '2018-05-20'}, {'end': '2018-06-03', 'downloads': 1394833, 'start': '2018-05-27'}, {'end': '2018-06-10', 'downloads': 5844536, 'start': '2018-06-03'}, {'end': '2018-06-17', 'downloads': 5807583, 'start': '2018-06-10'}, {'end': '2018-06-24', 'downloads': 5986229, 'start': '2018-06-17'}, {'end': '2018-07-01', 'downloads': 5946589, 'start': '2018-06-24'}, {'end': '2018-07-08', 'downloads': 5446756, 'start': '2018-07-01'}, {'end': '2018-07-15', 'downloads': 6066296, 'start': '2018-07-08'}, {'end': '2018-07-22', 'downloads': 5907637, 'start': '2018-07-15'}, {'end': '2018-07-29', 'downloads': 5991165, 'start': '2018-07-22'}, {'end': '2018-08-05', 'downloads': 6215980, 'start': '2018-07-29'}, {'end': '2018-08-12', 'downloads': 5077296, 'start': '2018-08-05'}, {'end': '2018-08-19', 'downloads': 5913858, 'start': '2018-08-12'}, {'end': '2018-08-26', 'downloads': 6146974, 'start': '2018-08-19'}, {'end': '2018-09-02', 'downloads': 5053215, 'start': '2018-08-26'}, {'end': '2018-09-09', 'downloads': 6053942, 'start': '2018-09-02'}, {'end': '2018-09-16', 'downloads': 5652924, 'start': '2018-09-09'}, {'end': '2018-09-23', 'downloads': 6805570, 'start': '2018-09-16'}, {'end': '2018-09-30', 'downloads': 7156706, 'start': '2018-09-23'}, {'end': '2018-10-01', 'downloads': 1594019, 'start': '2018-09-30'}], '_id': ObjectId('5bdca0996c8ace8ff41ff205'), 'name': 'ajv-keywords'}\n"
     ]
    }
   ],
   "source": [
    "import time, requests, sys, pymongo, json, datetime\n",
    "\n",
    "\n",
    "dbname = \"NPMvulnerabilities\"\n",
    "collname = \"pkg_dl\"\n",
    "client = pymongo.MongoClient(\"da1.eecs.utk.edu\")\n",
    "\n",
    "db = client[dbname]\n",
    "coll = db[collname]\n",
    "\n",
    "#pkgs = ['ajv-keywords', 'htmlnano']\n",
    "start_date = datetime.datetime(2015, 3, 1)\n",
    "delta = datetime.timedelta(days=6)\n",
    "end_date = start_date + delta\n",
    "dt_range = []\n",
    "final_date = datetime.datetime(2018, 10, 1)\n",
    "\n",
    "while start_date < final_date:\n",
    "    if end_date > final_date : end_date = final_date\n",
    "    dt_range.append((start_date.strftime('%Y-%m-%d'), end_date.strftime('%Y-%m-%d')))\n",
    "    start_date = end_date + datetime.timedelta(days=1)\n",
    "    end_date = start_date + delta\n",
    "\n",
    "\n",
    "# get data\n",
    "base_url = 'https://api.npmjs.org/downloads/point/'\n",
    "l = len(pkgs)\n",
    "print(l)\n",
    "for pkg in pkgs:\n",
    "    dl = []\n",
    "    for r in dt_range:\n",
    "        url = base_url+r[0]+':'+r[1]+'/'+pkg\n",
    "        try: r = requests.get(url)\n",
    "        except: print('Timeout '+ pkg+'\\n')\n",
    "        \n",
    "        try:\n",
    "            result = r.content\n",
    "            try:\n",
    "                rj = json.loads(result.decode('utf-8', errors='ignore'))\n",
    "                rj.pop('package', None)\n",
    "                dl = dl + [rj]\n",
    "            except: print('DecodeError '+ pkg+'\\n')\n",
    "        except: print('BadURL '+ pkg+'\\n')\n",
    "    #ent = {pkg: dl}    \n",
    "    ent = {'name':pkg, 'dl': dl}\n",
    "\n",
    "    coll.insert_one(ent)\n",
    "    print(ent)"
   ]
  },
  {
   "cell_type": "code",
   "execution_count": 66,
   "metadata": {},
   "outputs": [
    {
     "name": "stdout",
     "output_type": "stream",
     "text": [
      "Start date of spike: 2017-07-12\n",
      "Start date of spike: 2018-02-21\n",
      "Start date of spike: 2018-02-05\n",
      "Start date of fall: 2018-05-12\n"
     ]
    }
   ],
   "source": [
    "import math\n",
    "total_list = []\n",
    "start_date = []\n",
    "end_date = []\n",
    "download_list = []\n",
    "\n",
    "for r in coll.find():\n",
    "    download_list = []\n",
    "    start_date = []\n",
    "    ent = r['dl']\n",
    "    for k in ent:\n",
    "        download_list.append(k['downloads'])\n",
    "        start_date.append(k[\"start\"])\n",
    "#map, reduce, filter, lambda\n",
    "    log_list = [math.log(x+1) for x in download_list]\n",
    "    difference_list = []\n",
    "    for i in range(1,len(log_list)-1):\n",
    "        dif = log_list[i] - log_list[i-1]\n",
    "        difference_list.append( (log_list[i] - log_list[i-1]))\n",
    "        if dif > 7:\n",
    "            print(\"Start date of spike for \" + r['name'] +\": \" +start_date[i])\n",
    "        if dif < -7:\n",
    "            print(\"Start date of fall for \" + r['name'] +\": \" +start_date[i])\n",
    "    #print(difference_list)\n",
    "#print(log_list)\n",
    "#print(download_list)\n"
   ]
  },
  {
   "cell_type": "code",
   "execution_count": null,
   "metadata": {},
   "outputs": [
    {
     "name": "stdout",
     "output_type": "stream",
     "text": [
      "1\n",
      "Timeout jsonscript-proxy\n",
      "\n",
      "BadURL jsonscript-proxy\n",
      "\n",
      "Timeout jsonscript-proxy\n",
      "\n",
      "BadURL jsonscript-proxy\n",
      "\n"
     ]
    }
   ],
   "source": [
    "import time, requests, sys, pymongo, json, datetime\n",
    "\n",
    "\n",
    "dbname = \"NPMvulnerabilities\"\n",
    "collname = \"dep_dl2\"\n",
    "client = pymongo.MongoClient(\"da1.eecs.utk.edu\")\n",
    "\n",
    "db = client[dbname]\n",
    "coll = db[collname]\n",
    "\n",
    "#pkgs = ['ajv-keywords', 'htmlnano']\n",
    "start_date = datetime.datetime(2015, 3, 1)\n",
    "delta = datetime.timedelta(days=6)\n",
    "end_date = start_date + delta\n",
    "dt_range = []\n",
    "final_date = datetime.datetime(2018, 10, 1)\n",
    "\n",
    "while start_date < final_date:\n",
    "    if end_date > final_date : end_date = final_date\n",
    "    dt_range.append((start_date.strftime('%Y-%m-%d'), end_date.strftime('%Y-%m-%d')))\n",
    "    start_date = end_date + datetime.timedelta(days=1)\n",
    "    end_date = start_date + delta\n",
    "\n",
    "\n",
    "# get data\n",
    "base_url = 'https://api.npmjs.org/downloads/point/'\n",
    "l = len(pkgs)\n",
    "print(l)\n",
    "for k in dependent.keys():\n",
    "    for i in dependent[k]:\n",
    "        dl = []\n",
    "        for r in dt_range:\n",
    "            url = base_url+r[0]+':'+r[1]+'/'+i\n",
    "            try: r = requests.get(url)\n",
    "            except: print('Timeout '+ i+'\\n')\n",
    "        \n",
    "            try:\n",
    "                result = r.content\n",
    "                try:\n",
    "                    rj = json.loads(result.decode('utf-8', errors='ignore'))\n",
    "                    rj.pop('package', None)\n",
    "                    dl = dl + [rj]\n",
    "                except: print('DecodeError '+ i+'\\n')\n",
    "            except: print('BadURL '+ i+'\\n')\n",
    "        #ent = {pkg: dl}    \n",
    "        ent = {'name':i, 'dl': dl}\n",
    "        coll.insert_one(ent)\n",
    "        print(ent)"
   ]
  },
  {
   "cell_type": "code",
   "execution_count": null,
   "metadata": {},
   "outputs": [],
   "source": [
    "import time, requests, sys, pymongo, json, datetime\n",
    "\n",
    "\n",
    "dbname = \"NPMvulnerabilities\"\n",
    "collname = \"dep_dl\"\n",
    "client = pymongo.MongoClient(\"da1.eecs.utk.edu\")\n",
    "\n",
    "db = client[dbname]\n",
    "coll = db[collname]\n",
    "\n",
    "for r in coll.find():\n",
    "    temp = r['name']\n",
    "    print(temp)"
   ]
  },
  {
   "cell_type": "code",
   "execution_count": 77,
   "metadata": {},
   "outputs": [
    {
     "name": "stdout",
     "output_type": "stream",
     "text": [
      "For package ajv-keywords:\n",
      "Start date of spike for @webpack-contrib/schema-utils: 2018-04-02\n",
      "Start date of spike for schema-utils: 2017-03-06\n",
      "Start date of spike for schema-utils: 2017-05-01\n",
      "Start date of spike for read-config-file: 2017-07-12\n",
      "Start date of fall for yoshi: 2017-12-11\n",
      "Start date of spike for yoshi: 2018-04-18\n",
      "Start date of fall for yoshi: 2018-04-26\n",
      "Start date of fall for yoshi: 2018-05-28\n",
      "Start date of fall for yoshi: 2018-07-07\n"
     ]
    }
   ],
   "source": [
    "import math, time, requests, sys, pymongo, json, datetime\n",
    "\n",
    "dbname = \"NPMvulnerabilities\"\n",
    "collname = \"dep_dl\"\n",
    "client = pymongo.MongoClient(\"da1.eecs.utk.edu\")\n",
    "\n",
    "db = client[dbname]\n",
    "coll = db[collname]\n",
    "#scaling up -- for pkg in pkgs?\n",
    "print(\"For package \" + pkg + \":\")\n",
    "for r in coll.find():\n",
    "    download_list = []\n",
    "    start_date = []\n",
    "    ent = r['dl']\n",
    "    flag = 0\n",
    "    for k in ent:\n",
    "        if k[\"downloads\"] > 10000: #ADDITION--------------\n",
    "            flag = 1\n",
    "    if flag == 1:    \n",
    "        for k in ent:\n",
    "            download_list.append(k[\"downloads\"])\n",
    "            start_date.append(k[\"start\"])\n",
    "#map, reduce, filter, lambda\n",
    "            \n",
    "        log_list = [math.log(x+1) for x in download_list]\n",
    "   # difference_list = []\n",
    "    if flag == 1:\n",
    "            for i in range(1,len(log_list)-1):\n",
    "                dif = log_list[i] - log_list[i-1]\n",
    "       # difference_list.append(dif)\n",
    "                if dif > 3.5:\n",
    "                    print(\"Start date of spike for \" + r['name'] +\": \" +start_date[i])\n",
    "                if dif < -2:\n",
    "                    print(\"Start date of fall for \" + r['name'] +\": \" +start_date[i])\n",
    "                #if r['name'] == 'yoshi':\n",
    "                 #   print(dif)\n"
   ]
  },
  {
   "cell_type": "code",
   "execution_count": null,
   "metadata": {},
   "outputs": [],
   "source": []
  }
 ],
 "metadata": {
  "kernelspec": {
   "display_name": "Python 3",
   "language": "python",
   "name": "python3"
  },
  "language_info": {
   "codemirror_mode": {
    "name": "ipython",
    "version": 3
   },
   "file_extension": ".py",
   "mimetype": "text/x-python",
   "name": "python",
   "nbconvert_exporter": "python",
   "pygments_lexer": "ipython3",
   "version": "3.5.2"
  }
 },
 "nbformat": 4,
 "nbformat_minor": 2
}
