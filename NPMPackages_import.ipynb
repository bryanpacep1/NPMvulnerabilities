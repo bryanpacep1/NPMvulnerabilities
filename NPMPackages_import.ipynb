{
 "cells": [
  {
   "cell_type": "code",
   "execution_count": 7,
   "metadata": {},
   "outputs": [],
   "source": [
    "import gzip, json\n",
    "with gzip.open('/data/NPMvulnerabilities/NPMPackages.json.gz', 'rb') as f:\n",
    "    fc = f.read().decode(\"utf-8\")\n",
    "from json import JSONDecoder, JSONDecodeError\n",
    "import re\n",
    "\n",
    "NOT_WHITESPACE = re.compile(r'[^\\s]')\n",
    "\n",
    "def decode_stacked(document, pos=0, decoder=JSONDecoder()):\n",
    "    while True:\n",
    "        match = NOT_WHITESPACE.search(document, pos)\n",
    "        if not match:\n",
    "            return\n",
    "        pos = match.start()\n",
    "\n",
    "        try:\n",
    "            obj, pos = decoder.raw_decode(document, pos)\n",
    "        except JSONDecodeError:\n",
    "            # do something sensible if there's some error\n",
    "            print(\"DECODE_STACKED() FAILED\")\n",
    "            pass\n",
    "        yield obj"
   ]
  },
  {
   "cell_type": "code",
   "execution_count": 9,
   "metadata": {},
   "outputs": [],
   "source": [
    "for obj in decode_stacked(fc):\n",
    "    ind = 0\n",
    "    try: versions = list(obj['versions'].keys())\n",
    "    except: continue\n",
    "    try: release_dates = obj['time']\n",
    "    except: continue\n",
    "    info = {key: {'release_date': release_dates[key]} for key in release_dates if key not in ['created', 'modified']}\n",
    "    for key in versions:\n",
    "        try:\n",
    "            info[key]['dependencies'] = list(obj['versions'][key]['dependencies'].keys())\n",
    "            if pkg in info[key]['dependencies']: ind = 1\n",
    "        except: continue\n",
    "    if ind :\n",
    "        dependent[pkg].append({obj['name']: info})"
   ]
  },
  {
   "cell_type": "code",
   "execution_count": null,
   "metadata": {},
   "outputs": [],
   "source": [
    "for k in dependent.keys():\n",
    "    if k == 'ajv-keywords':\n",
    "        print(k, dependent[k][0])\n",
    "        break"
   ]
  },
  {
   "cell_type": "code",
   "execution_count": null,
   "metadata": {},
   "outputs": [],
   "source": [
    "#user-info\n",
    "#    pji\n",
    "#        version 1.0\n",
    "#        date\n",
    "#        \n",
    "#        version 1.1\n",
    "#        date\n",
    "#    gifnoc\n",
    "#        version\n",
    "#        date\n",
    "        "
   ]
  },
  {
   "cell_type": "code",
   "execution_count": 35,
   "metadata": {},
   "outputs": [],
   "source": [
    "#pkgs = ['htmlnano', 'object.map', 'babylon-walk', 'wix-style-react', 'threads', 'minimist-options', 'lead', '@babel/polyfill', '@babel/helper-define-map', 'cloudscraper']\n",
    "pkgs = ['ajv-keywords']   \n",
    "dependent = {}\n",
    "for pkg in pkgs:\n",
    "    dependent[pkg] = []\n",
    "    for obj in decode_stacked(fc):\n",
    "        ind = 0\n",
    "        try: versions = list(obj['versions'].keys())\n",
    "        except: continue\n",
    "        try: release_dates = obj['time']\n",
    "        except: continue\n",
    "        info = {key: {'release_date': release_dates[key]} for key in release_dates if key not in ['created', 'modified']}\n",
    "        for key in versions:\n",
    "            try:\n",
    "                info[key]['dependencies'] = list(obj['versions'][key]['dependencies'].keys())\n",
    "                if pkg in info[key]['dependencies']: ind = 1\n",
    "            except: continue\n",
    "        if ind :\n",
    "            dependent[pkg].append({obj['name']})"
   ]
  },
  {
   "cell_type": "code",
   "execution_count": 36,
   "metadata": {},
   "outputs": [
    {
     "name": "stdout",
     "output_type": "stream",
     "text": [
      "ajv-keywords [{'jsonscript-proxy'}, {'senasaikou-yeoman'}, {'webpack-egoist'}, {'alex-d.js'}, {'advanced-image-loader'}, {'webpack-addons-ylvis'}, {'primeng-custom'}, {'jicli'}, {'@lgeiger/electron-builder'}, {'@touched/map-tool-project'}, {'generator-arc'}, {'node-private-tools'}, {'fhir2'}, {'webpack-ie8'}, {'mocoolka-tools'}, {'misstep'}, {'@cysonius/schema-utils'}, {'ng2-dnd-kokatsuna'}, {'qweb-client'}, {'@johnf/electron-builder'}]\n",
      "len =  157\n"
     ]
    }
   ],
   "source": [
    "for k in dependent.keys():\n",
    "    if k == 'ajv-keywords':\n",
    "        print(k, dependent[k][:20])\n",
    "        print(\"len = \", len(dependent[k]))\n",
    "        break"
   ]
  },
  {
   "cell_type": "code",
   "execution_count": null,
   "metadata": {},
   "outputs": [],
   "source": [
    "#ajv-keywords\n",
    "    #jsconscript-proxy\n",
    "    #senasaikou-yeoman\n",
    "    #webpack-egoist\n",
    "#user-info\n",
    "    #ajv-keywords\n",
    "        "
   ]
  },
  {
   "cell_type": "code",
   "execution_count": 38,
   "metadata": {},
   "outputs": [
    {
     "name": "stdout",
     "output_type": "stream",
     "text": [
      "ajv-keywords [{'jsonscript-proxy'}, {'senasaikou-yeoman'}, {'webpack-egoist'}, {'alex-d.js'}, {'advanced-image-loader'}, {'webpack-addons-ylvis'}, {'primeng-custom'}, {'jicli'}, {'@lgeiger/electron-builder'}, {'@touched/map-tool-project'}, {'generator-arc'}, {'node-private-tools'}, {'fhir2'}, {'webpack-ie8'}, {'mocoolka-tools'}, {'misstep'}, {'@cysonius/schema-utils'}, {'ng2-dnd-kokatsuna'}, {'qweb-client'}, {'@johnf/electron-builder'}]\n",
      "len =  157\n"
     ]
    }
   ],
   "source": [
    "for k in dependent.keys():\n",
    "    print(k, dependent[k][:20])\n",
    "    print(\"len = \", len(dependent[k]))\n",
    "    break"
   ]
  },
  {
   "cell_type": "code",
   "execution_count": 45,
   "metadata": {},
   "outputs": [
    {
     "name": "stdout",
     "output_type": "stream",
     "text": [
      "1\n",
      "{'ajv-keywords': [{'downloads': 0, 'day': '2016-08-28'}, {'downloads': 0, 'day': '2016-08-29'}, {'downloads': 1, 'day': '2016-08-30'}, {'downloads': 0, 'day': '2016-08-31'}, {'downloads': 0, 'day': '2016-09-01'}, {'downloads': 4, 'day': '2016-09-02'}, {'downloads': 1, 'day': '2016-09-03'}, {'downloads': 3, 'day': '2016-09-04'}, {'downloads': 0, 'day': '2016-09-05'}, {'downloads': 0, 'day': '2016-09-06'}, {'downloads': 3, 'day': '2016-09-07'}, {'downloads': 0, 'day': '2016-09-08'}, {'downloads': 4, 'day': '2016-09-09'}, {'downloads': 3, 'day': '2016-09-10'}, {'downloads': 1, 'day': '2016-09-11'}, {'downloads': 1, 'day': '2016-09-12'}, {'downloads': 1, 'day': '2016-09-13'}, {'downloads': 25, 'day': '2016-09-14'}, {'downloads': 12, 'day': '2016-09-15'}, {'downloads': 1, 'day': '2016-09-16'}, {'downloads': 7963, 'day': '2016-09-17'}, {'downloads': 35654, 'day': '2016-09-18'}, {'downloads': 99754, 'day': '2016-09-19'}, {'downloads': 97477, 'day': '2016-09-20'}, {'downloads': 93461, 'day': '2016-09-21'}, {'downloads': 102970, 'day': '2016-09-22'}, {'downloads': 91016, 'day': '2016-09-23'}, {'downloads': 35093, 'day': '2016-09-24'}, {'downloads': 30177, 'day': '2016-09-25'}, {'downloads': 110944, 'day': '2016-09-26'}, {'downloads': 113238, 'day': '2016-09-27'}, {'downloads': 103778, 'day': '2016-09-28'}, {'downloads': 108358, 'day': '2016-09-29'}, {'downloads': 98752, 'day': '2016-09-30'}, {'downloads': 34062, 'day': '2016-10-01'}, {'downloads': 27215, 'day': '2016-10-02'}, {'downloads': 91141, 'day': '2016-10-03'}, {'downloads': 95466, 'day': '2016-10-04'}, {'downloads': 95905, 'day': '2016-10-05'}, {'downloads': 95916, 'day': '2016-10-06'}, {'downloads': 86678, 'day': '2016-10-07'}, {'downloads': 29847, 'day': '2016-10-08'}, {'downloads': 29998, 'day': '2016-10-09'}, {'downloads': 93090, 'day': '2016-10-10'}, {'downloads': 82862, 'day': '2016-10-11'}, {'downloads': 104361, 'day': '2016-10-12'}, {'downloads': 107019, 'day': '2016-10-13'}, {'downloads': 102478, 'day': '2016-10-14'}, {'downloads': 37355, 'day': '2016-10-15'}, {'downloads': 33773, 'day': '2016-10-16'}, {'downloads': 110424, 'day': '2016-10-17'}, {'downloads': 111848, 'day': '2016-10-18'}, {'downloads': 107898, 'day': '2016-10-19'}, {'downloads': 109136, 'day': '2016-10-20'}, {'downloads': 80491, 'day': '2016-10-21'}, {'downloads': 32900, 'day': '2016-10-22'}, {'downloads': 32071, 'day': '2016-10-23'}, {'downloads': 107771, 'day': '2016-10-24'}, {'downloads': 122415, 'day': '2016-10-25'}, {'downloads': 111322, 'day': '2016-10-26'}, {'downloads': 107558, 'day': '2016-10-27'}, {'downloads': 103025, 'day': '2016-10-28'}, {'downloads': 35145, 'day': '2016-10-29'}, {'downloads': 37493, 'day': '2016-10-30'}, {'downloads': 116954, 'day': '2016-10-31'}, {'downloads': 114795, 'day': '2016-11-01'}, {'downloads': 119342, 'day': '2016-11-02'}, {'downloads': 113837, 'day': '2016-11-03'}, {'downloads': 103051, 'day': '2016-11-04'}, {'downloads': 31802, 'day': '2016-11-05'}, {'downloads': 32669, 'day': '2016-11-06'}, {'downloads': 115109, 'day': '2016-11-07'}, {'downloads': 115695, 'day': '2016-11-08'}, {'downloads': 105601, 'day': '2016-11-09'}, {'downloads': 118282, 'day': '2016-11-10'}, {'downloads': 107034, 'day': '2016-11-11'}, {'downloads': 34120, 'day': '2016-11-12'}, {'downloads': 33608, 'day': '2016-11-13'}, {'downloads': 125931, 'day': '2016-11-14'}, {'downloads': 137943, 'day': '2016-11-15'}, {'downloads': 134856, 'day': '2016-11-16'}, {'downloads': 134489, 'day': '2016-11-17'}, {'downloads': 117952, 'day': '2016-11-18'}, {'downloads': 39124, 'day': '2016-11-19'}, {'downloads': 36647, 'day': '2016-11-20'}, {'downloads': 118596, 'day': '2016-11-21'}, {'downloads': 136881, 'day': '2016-11-22'}, {'downloads': 127191, 'day': '2016-11-23'}, {'downloads': 98808, 'day': '2016-11-24'}, {'downloads': 91159, 'day': '2016-11-25'}, {'downloads': 33428, 'day': '2016-11-26'}, {'downloads': 37679, 'day': '2016-11-27'}, {'downloads': 127339, 'day': '2016-11-28'}, {'downloads': 132242, 'day': '2016-11-29'}, {'downloads': 130180, 'day': '2016-11-30'}, {'downloads': 132064, 'day': '2016-12-01'}, {'downloads': 137539, 'day': '2016-12-02'}, {'downloads': 47678, 'day': '2016-12-03'}, {'downloads': 45897, 'day': '2016-12-04'}, {'downloads': 148913, 'day': '2016-12-05'}, {'downloads': 152102, 'day': '2016-12-06'}, {'downloads': 153211, 'day': '2016-12-07'}, {'downloads': 146673, 'day': '2016-12-08'}, {'downloads': 142268, 'day': '2016-12-09'}, {'downloads': 44724, 'day': '2016-12-10'}, {'downloads': 42104, 'day': '2016-12-11'}, {'downloads': 146255, 'day': '2016-12-12'}, {'downloads': 153788, 'day': '2016-12-13'}, {'downloads': 157066, 'day': '2016-12-14'}, {'downloads': 143084, 'day': '2016-12-15'}, {'downloads': 125424, 'day': '2016-12-16'}, {'downloads': 40257, 'day': '2016-12-17'}, {'downloads': 39381, 'day': '2016-12-18'}, {'downloads': 130452, 'day': '2016-12-19'}, {'downloads': 139126, 'day': '2016-12-20'}, {'downloads': 138383, 'day': '2016-12-21'}, {'downloads': 132317, 'day': '2016-12-22'}, {'downloads': 112660, 'day': '2016-12-23'}, {'downloads': 39310, 'day': '2016-12-24'}, {'downloads': 28588, 'day': '2016-12-25'}, {'downloads': 57127, 'day': '2016-12-26'}, {'downloads': 88435, 'day': '2016-12-27'}, {'downloads': 97673, 'day': '2016-12-28'}, {'downloads': 108601, 'day': '2016-12-29'}, {'downloads': 79371, 'day': '2016-12-30'}, {'downloads': 37297, 'day': '2016-12-31'}, {'downloads': 27675, 'day': '2017-01-01'}, {'downloads': 72047, 'day': '2017-01-02'}, {'downloads': 133421, 'day': '2017-01-03'}, {'downloads': 149010, 'day': '2017-01-04'}, {'downloads': 147354, 'day': '2017-01-05'}, {'downloads': 141374, 'day': '2017-01-06'}, {'downloads': 67632, 'day': '2017-01-07'}, {'downloads': 64300, 'day': '2017-01-08'}, {'downloads': 173955, 'day': '2017-01-09'}, {'downloads': 178945, 'day': '2017-01-10'}, {'downloads': 169711, 'day': '2017-01-11'}, {'downloads': 166838, 'day': '2017-01-12'}, {'downloads': 149943, 'day': '2017-01-13'}, {'downloads': 53807, 'day': '2017-01-14'}, {'downloads': 49833, 'day': '2017-01-15'}, {'downloads': 144416, 'day': '2017-01-16'}, {'downloads': 167342, 'day': '2017-01-17'}, {'downloads': 178664, 'day': '2017-01-18'}, {'downloads': 164781, 'day': '2017-01-19'}, {'downloads': 171860, 'day': '2017-01-20'}, {'downloads': 56015, 'day': '2017-01-21'}, {'downloads': 60804, 'day': '2017-01-22'}, {'downloads': 200800, 'day': '2017-01-23'}, {'downloads': 196658, 'day': '2017-01-24'}, {'downloads': 198054, 'day': '2017-01-25'}, {'downloads': 179538, 'day': '2017-01-26'}, {'downloads': 167651, 'day': '2017-01-27'}, {'downloads': 61138, 'day': '2017-01-28'}, {'downloads': 55761, 'day': '2017-01-29'}, {'downloads': 173727, 'day': '2017-01-30'}, {'downloads': 200664, 'day': '2017-01-31'}, {'downloads': 194668, 'day': '2017-02-01'}, {'downloads': 197152, 'day': '2017-02-02'}, {'downloads': 186241, 'day': '2017-02-03'}, {'downloads': 69799, 'day': '2017-02-04'}, {'downloads': 70235, 'day': '2017-02-05'}, {'downloads': 191918, 'day': '2017-02-06'}, {'downloads': 206097, 'day': '2017-02-07'}, {'downloads': 207466, 'day': '2017-02-08'}, {'downloads': 201385, 'day': '2017-02-09'}, {'downloads': 181523, 'day': '2017-02-10'}, {'downloads': 67109, 'day': '2017-02-11'}, {'downloads': 60040, 'day': '2017-02-12'}, {'downloads': 196032, 'day': '2017-02-13'}, {'downloads': 220967, 'day': '2017-02-14'}, {'downloads': 204501, 'day': '2017-02-15'}, {'downloads': 213936, 'day': '2017-02-16'}, {'downloads': 185251, 'day': '2017-02-17'}, {'downloads': 70873, 'day': '2017-02-18'}, {'downloads': 64008, 'day': '2017-02-19'}, {'downloads': 181654, 'day': '2017-02-20'}, {'downloads': 211680, 'day': '2017-02-21'}, {'downloads': 218333, 'day': '2017-02-22'}, {'downloads': 212979, 'day': '2017-02-23'}, {'downloads': 189689, 'day': '2017-02-24'}, {'downloads': 69947, 'day': '2017-02-25'}, {'downloads': 70656, 'day': '2017-02-26'}, {'downloads': 206252, 'day': '2017-02-27'}, {'downloads': 198065, 'day': '2017-02-28'}, {'downloads': 241172, 'day': '2017-03-01'}, {'downloads': 246426, 'day': '2017-03-02'}, {'downloads': 226056, 'day': '2017-03-03'}, {'downloads': 96022, 'day': '2017-03-04'}, {'downloads': 85752, 'day': '2017-03-05'}, {'downloads': 227297, 'day': '2017-03-06'}, {'downloads': 241497, 'day': '2017-03-07'}, {'downloads': 231477, 'day': '2017-03-08'}, {'downloads': 237114, 'day': '2017-03-09'}, {'downloads': 219036, 'day': '2017-03-10'}, {'downloads': 86960, 'day': '2017-03-11'}, {'downloads': 78387, 'day': '2017-03-12'}, {'downloads': 230062, 'day': '2017-03-13'}, {'downloads': 260956, 'day': '2017-03-14'}, {'downloads': 187355, 'day': '2017-03-15'}, {'downloads': 229510, 'day': '2017-03-16'}, {'downloads': 209660, 'day': '2017-03-17'}, {'downloads': 98631, 'day': '2017-03-18'}, {'downloads': 88606, 'day': '2017-03-19'}, {'downloads': 254220, 'day': '2017-03-20'}, {'downloads': 265383, 'day': '2017-03-21'}, {'downloads': 259296, 'day': '2017-03-22'}, {'downloads': 247063, 'day': '2017-03-23'}, {'downloads': 225598, 'day': '2017-03-24'}, {'downloads': 89908, 'day': '2017-03-25'}, {'downloads': 82691, 'day': '2017-03-26'}, {'downloads': 245922, 'day': '2017-03-27'}, {'downloads': 260129, 'day': '2017-03-28'}, {'downloads': 248551, 'day': '2017-03-29'}, {'downloads': 252454, 'day': '2017-03-30'}, {'downloads': 229429, 'day': '2017-03-31'}, {'downloads': 83183, 'day': '2017-04-01'}, {'downloads': 76255, 'day': '2017-04-02'}, {'downloads': 243692, 'day': '2017-04-03'}, {'downloads': 245227, 'day': '2017-04-04'}, {'downloads': 260179, 'day': '2017-04-05'}, {'downloads': 251707, 'day': '2017-04-06'}, {'downloads': 239152, 'day': '2017-04-07'}, {'downloads': 83593, 'day': '2017-04-08'}, {'downloads': 74212, 'day': '2017-04-09'}, {'downloads': 246845, 'day': '2017-04-10'}, {'downloads': 259409, 'day': '2017-04-11'}, {'downloads': 258383, 'day': '2017-04-12'}, {'downloads': 243328, 'day': '2017-04-13'}, {'downloads': 177481, 'day': '2017-04-14'}, {'downloads': 71383, 'day': '2017-04-15'}, {'downloads': 64363, 'day': '2017-04-16'}, {'downloads': 162179, 'day': '2017-04-17'}, {'downloads': 261681, 'day': '2017-04-18'}, {'downloads': 262218, 'day': '2017-04-19'}, {'downloads': 256180, 'day': '2017-04-20'}, {'downloads': 229430, 'day': '2017-04-21'}, {'downloads': 83841, 'day': '2017-04-22'}, {'downloads': 88562, 'day': '2017-04-23'}, {'downloads': 262965, 'day': '2017-04-24'}, {'downloads': 264700, 'day': '2017-04-25'}, {'downloads': 269423, 'day': '2017-04-26'}, {'downloads': 268500, 'day': '2017-04-27'}, {'downloads': 264693, 'day': '2017-04-28'}, {'downloads': 88360, 'day': '2017-04-29'}, {'downloads': 84792, 'day': '2017-04-30'}, {'downloads': 181158, 'day': '2017-05-01'}, {'downloads': 257630, 'day': '2017-05-02'}, {'downloads': 271810, 'day': '2017-05-03'}, {'downloads': 282372, 'day': '2017-05-04'}, {'downloads': 250984, 'day': '2017-05-05'}, {'downloads': 83504, 'day': '2017-05-06'}, {'downloads': 81401, 'day': '2017-05-07'}, {'downloads': 244171, 'day': '2017-05-08'}, {'downloads': 271761, 'day': '2017-05-09'}, {'downloads': 283099, 'day': '2017-05-10'}, {'downloads': 279084, 'day': '2017-05-11'}, {'downloads': 256968, 'day': '2017-05-12'}, {'downloads': 76635, 'day': '2017-05-13'}, {'downloads': 75075, 'day': '2017-05-14'}, {'downloads': 262464, 'day': '2017-05-15'}, {'downloads': 288388, 'day': '2017-05-16'}, {'downloads': 283864, 'day': '2017-05-17'}, {'downloads': 273042, 'day': '2017-05-18'}, {'downloads': 244594, 'day': '2017-05-19'}, {'downloads': 73139, 'day': '2017-05-20'}, {'downloads': 69718, 'day': '2017-05-21'}, {'downloads': 260830, 'day': '2017-05-22'}, {'downloads': 291148, 'day': '2017-05-23'}, {'downloads': 290049, 'day': '2017-05-24'}, {'downloads': 236797, 'day': '2017-05-25'}, {'downloads': 234243, 'day': '2017-05-26'}, {'downloads': 73602, 'day': '2017-05-27'}, {'downloads': 69842, 'day': '2017-05-28'}, {'downloads': 201359, 'day': '2017-05-29'}, {'downloads': 275019, 'day': '2017-05-30'}, {'downloads': 299468, 'day': '2017-05-31'}, {'downloads': 303221, 'day': '2017-06-01'}, {'downloads': 280531, 'day': '2017-06-02'}, {'downloads': 89371, 'day': '2017-06-03'}, {'downloads': 76085, 'day': '2017-06-04'}, {'downloads': 248934, 'day': '2017-06-05'}, {'downloads': 293077, 'day': '2017-06-06'}, {'downloads': 313858, 'day': '2017-06-07'}, {'downloads': 299069, 'day': '2017-06-08'}, {'downloads': 269615, 'day': '2017-06-09'}, {'downloads': 80493, 'day': '2017-06-10'}, {'downloads': 79005, 'day': '2017-06-11'}, {'downloads': 282988, 'day': '2017-06-12'}, {'downloads': 313264, 'day': '2017-06-13'}, {'downloads': 310465, 'day': '2017-06-14'}, {'downloads': 293352, 'day': '2017-06-15'}, {'downloads': 266339, 'day': '2017-06-16'}, {'downloads': 79265, 'day': '2017-06-17'}, {'downloads': 76055, 'day': '2017-06-18'}, {'downloads': 305871, 'day': '2017-06-19'}, {'downloads': 352576, 'day': '2017-06-20'}, {'downloads': 339738, 'day': '2017-06-21'}, {'downloads': 336687, 'day': '2017-06-22'}, {'downloads': 290565, 'day': '2017-06-23'}, {'downloads': 99648, 'day': '2017-06-24'}, {'downloads': 84844, 'day': '2017-06-25'}, {'downloads': 313868, 'day': '2017-06-26'}, {'downloads': 343386, 'day': '2017-06-27'}, {'downloads': 337661, 'day': '2017-06-28'}, {'downloads': 341437, 'day': '2017-06-29'}, {'downloads': 309086, 'day': '2017-06-30'}, {'downloads': 90437, 'day': '2017-07-01'}, {'downloads': 87336, 'day': '2017-07-02'}, {'downloads': 271314, 'day': '2017-07-03'}, {'downloads': 263088, 'day': '2017-07-04'}, {'downloads': 325353, 'day': '2017-07-05'}, {'downloads': 339432, 'day': '2017-07-06'}, {'downloads': 307543, 'day': '2017-07-07'}, {'downloads': 97693, 'day': '2017-07-08'}, {'downloads': 101248, 'day': '2017-07-09'}, {'downloads': 341238, 'day': '2017-07-10'}, {'downloads': 357030, 'day': '2017-07-11'}, {'downloads': 359438, 'day': '2017-07-12'}, {'downloads': 378057, 'day': '2017-07-13'}, {'downloads': 318134, 'day': '2017-07-14'}, {'downloads': 96681, 'day': '2017-07-15'}, {'downloads': 95913, 'day': '2017-07-16'}, {'downloads': 333161, 'day': '2017-07-17'}, {'downloads': 367667, 'day': '2017-07-18'}, {'downloads': 371474, 'day': '2017-07-19'}, {'downloads': 371165, 'day': '2017-07-20'}, {'downloads': 344570, 'day': '2017-07-21'}, {'downloads': 102355, 'day': '2017-07-22'}, {'downloads': 94763, 'day': '2017-07-23'}, {'downloads': 367892, 'day': '2017-07-24'}, {'downloads': 389443, 'day': '2017-07-25'}, {'downloads': 386701, 'day': '2017-07-26'}, {'downloads': 373113, 'day': '2017-07-27'}, {'downloads': 326027, 'day': '2017-07-28'}, {'downloads': 98103, 'day': '2017-07-29'}, {'downloads': 95849, 'day': '2017-07-30'}, {'downloads': 316728, 'day': '2017-07-31'}, {'downloads': 313618, 'day': '2017-08-01'}, {'downloads': 380456, 'day': '2017-08-02'}, {'downloads': 373232, 'day': '2017-08-03'}, {'downloads': 332929, 'day': '2017-08-04'}, {'downloads': 103974, 'day': '2017-08-05'}, {'downloads': 94840, 'day': '2017-08-06'}, {'downloads': 351552, 'day': '2017-08-07'}, {'downloads': 401681, 'day': '2017-08-08'}, {'downloads': 399750, 'day': '2017-08-09'}, {'downloads': 409538, 'day': '2017-08-10'}, {'downloads': 352673, 'day': '2017-08-11'}, {'downloads': 112246, 'day': '2017-08-12'}, {'downloads': 102534, 'day': '2017-08-13'}, {'downloads': 354202, 'day': '2017-08-14'}, {'downloads': 365642, 'day': '2017-08-15'}, {'downloads': 405848, 'day': '2017-08-16'}, {'downloads': 409931, 'day': '2017-08-17'}, {'downloads': 365593, 'day': '2017-08-18'}, {'downloads': 120629, 'day': '2017-08-19'}, {'downloads': 120011, 'day': '2017-08-20'}, {'downloads': 374707, 'day': '2017-08-21'}, {'downloads': 416114, 'day': '2017-08-22'}, {'downloads': 420494, 'day': '2017-08-23'}, {'downloads': 420805, 'day': '2017-08-24'}, {'downloads': 365563, 'day': '2017-08-25'}, {'downloads': 111280, 'day': '2017-08-26'}, {'downloads': 107032, 'day': '2017-08-27'}, {'downloads': 381063, 'day': '2017-08-28'}, {'downloads': 437821, 'day': '2017-08-29'}, {'downloads': 437425, 'day': '2017-08-30'}, {'downloads': 424535, 'day': '2017-08-31'}, {'downloads': 377637, 'day': '2017-09-01'}, {'downloads': 118947, 'day': '2017-09-02'}, {'downloads': 111327, 'day': '2017-09-03'}, {'downloads': 313205, 'day': '2017-09-04'}, {'downloads': 434837, 'day': '2017-09-05'}, {'downloads': 465605, 'day': '2017-09-06'}, {'downloads': 457977, 'day': '2017-09-07'}, {'downloads': 421567, 'day': '2017-09-08'}, {'downloads': 126993, 'day': '2017-09-09'}, {'downloads': 127613, 'day': '2017-09-10'}, {'downloads': 459539, 'day': '2017-09-11'}, {'downloads': 486043, 'day': '2017-09-12'}, {'downloads': 473564, 'day': '2017-09-13'}, {'downloads': 475677, 'day': '2017-09-14'}, {'downloads': 424680, 'day': '2017-09-15'}, {'downloads': 131644, 'day': '2017-09-16'}, {'downloads': 120532, 'day': '2017-09-17'}, {'downloads': 458530, 'day': '2017-09-18'}, {'downloads': 492593, 'day': '2017-09-19'}, {'downloads': 479133, 'day': '2017-09-20'}, {'downloads': 472792, 'day': '2017-09-21'}, {'downloads': 433929, 'day': '2017-09-22'}, {'downloads': 125831, 'day': '2017-09-23'}, {'downloads': 121906, 'day': '2017-09-24'}, {'downloads': 457350, 'day': '2017-09-25'}, {'downloads': 516155, 'day': '2017-09-26'}, {'downloads': 511721, 'day': '2017-09-27'}, {'downloads': 493961, 'day': '2017-09-28'}, {'downloads': 437262, 'day': '2017-09-29'}, {'downloads': 140533, 'day': '2017-09-30'}, {'downloads': 125953, 'day': '2017-10-01'}, {'downloads': 439241, 'day': '2017-10-02'}, {'downloads': 492822, 'day': '2017-10-03'}, {'downloads': 508867, 'day': '2017-10-04'}, {'downloads': 511459, 'day': '2017-10-05'}, {'downloads': 462015, 'day': '2017-10-06'}, {'downloads': 141748, 'day': '2017-10-07'}, {'downloads': 135219, 'day': '2017-10-08'}, {'downloads': 449923, 'day': '2017-10-09'}, {'downloads': 522291, 'day': '2017-10-10'}, {'downloads': 532919, 'day': '2017-10-11'}, {'downloads': 521173, 'day': '2017-10-12'}, {'downloads': 472031, 'day': '2017-10-13'}, {'downloads': 154969, 'day': '2017-10-14'}, {'downloads': 136151, 'day': '2017-10-15'}, {'downloads': 493099, 'day': '2017-10-16'}, {'downloads': 526981, 'day': '2017-10-17'}, {'downloads': 529949, 'day': '2017-10-18'}, {'downloads': 542785, 'day': '2017-10-19'}, {'downloads': 483032, 'day': '2017-10-20'}, {'downloads': 156960, 'day': '2017-10-21'}, {'downloads': 146324, 'day': '2017-10-22'}, {'downloads': 519447, 'day': '2017-10-23'}, {'downloads': 570888, 'day': '2017-10-24'}, {'downloads': 574278, 'day': '2017-10-25'}, {'downloads': 544416, 'day': '2017-10-26'}, {'downloads': 492139, 'day': '2017-10-27'}, {'downloads': 148215, 'day': '2017-10-28'}, {'downloads': 162856, 'day': '2017-10-29'}, {'downloads': 576706, 'day': '2017-10-30'}, {'downloads': 574801, 'day': '2017-10-31'}, {'downloads': 545725, 'day': '2017-11-01'}, {'downloads': 601503, 'day': '2017-11-02'}, {'downloads': 530860, 'day': '2017-11-03'}, {'downloads': 162388, 'day': '2017-11-04'}, {'downloads': 158332, 'day': '2017-11-05'}, {'downloads': 559117, 'day': '2017-11-06'}, {'downloads': 612384, 'day': '2017-11-07'}, {'downloads': 601994, 'day': '2017-11-08'}, {'downloads': 590125, 'day': '2017-11-09'}, {'downloads': 519584, 'day': '2017-11-10'}, {'downloads': 174405, 'day': '2017-11-11'}, {'downloads': 158914, 'day': '2017-11-12'}, {'downloads': 554367, 'day': '2017-11-13'}, {'downloads': 603929, 'day': '2017-11-14'}, {'downloads': 591820, 'day': '2017-11-15'}, {'downloads': 587683, 'day': '2017-11-16'}, {'downloads': 528081, 'day': '2017-11-17'}, {'downloads': 166720, 'day': '2017-11-18'}, {'downloads': 154338, 'day': '2017-11-19'}, {'downloads': 544973, 'day': '2017-11-20'}, {'downloads': 581304, 'day': '2017-11-21'}, {'downloads': 550393, 'day': '2017-11-22'}, {'downloads': 434047, 'day': '2017-11-23'}, {'downloads': 376394, 'day': '2017-11-24'}, {'downloads': 134761, 'day': '2017-11-25'}, {'downloads': 154906, 'day': '2017-11-26'}, {'downloads': 536759, 'day': '2017-11-27'}, {'downloads': 595812, 'day': '2017-11-28'}, {'downloads': 589077, 'day': '2017-11-29'}, {'downloads': 589566, 'day': '2017-11-30'}, {'downloads': 518993, 'day': '2017-12-01'}, {'downloads': 165214, 'day': '2017-12-02'}, {'downloads': 158664, 'day': '2017-12-03'}, {'downloads': 572553, 'day': '2017-12-04'}, {'downloads': 592532, 'day': '2017-12-05'}, {'downloads': 573913, 'day': '2017-12-06'}, {'downloads': 571406, 'day': '2017-12-07'}, {'downloads': 490149, 'day': '2017-12-08'}, {'downloads': 163553, 'day': '2017-12-09'}, {'downloads': 151171, 'day': '2017-12-10'}, {'downloads': 553278, 'day': '2017-12-11'}, {'downloads': 606089, 'day': '2017-12-12'}, {'downloads': 582725, 'day': '2017-12-13'}, {'downloads': 572988, 'day': '2017-12-14'}, {'downloads': 496969, 'day': '2017-12-15'}, {'downloads': 156345, 'day': '2017-12-16'}, {'downloads': 142898, 'day': '2017-12-17'}, {'downloads': 537489, 'day': '2017-12-18'}, {'downloads': 568861, 'day': '2017-12-19'}, {'downloads': 559254, 'day': '2017-12-20'}, {'downloads': 535403, 'day': '2017-12-21'}, {'downloads': 424604, 'day': '2017-12-22'}, {'downloads': 175539, 'day': '2017-12-23'}, {'downloads': 177569, 'day': '2017-12-24'}, {'downloads': 203728, 'day': '2017-12-25'}, {'downloads': 296290, 'day': '2017-12-26'}, {'downloads': 380476, 'day': '2017-12-27'}, {'downloads': 393344, 'day': '2017-12-28'}, {'downloads': 314483, 'day': '2017-12-29'}, {'downloads': 148250, 'day': '2017-12-30'}, {'downloads': 190535, 'day': '2017-12-31'}, {'downloads': 178433, 'day': '2018-01-01'}, {'downloads': 396754, 'day': '2018-01-02'}, {'downloads': 489649, 'day': '2018-01-03'}, {'downloads': 512584, 'day': '2018-01-04'}, {'downloads': 480428, 'day': '2018-01-05'}, {'downloads': 154556, 'day': '2018-01-06'}, {'downloads': 155504, 'day': '2018-01-07'}, {'downloads': 517540, 'day': '2018-01-08'}, {'downloads': 566548, 'day': '2018-01-09'}, {'downloads': 584222, 'day': '2018-01-10'}, {'downloads': 594441, 'day': '2018-01-11'}, {'downloads': 538459, 'day': '2018-01-12'}, {'downloads': 166825, 'day': '2018-01-13'}, {'downloads': 157287, 'day': '2018-01-14'}, {'downloads': 494519, 'day': '2018-01-15'}, {'downloads': 575504, 'day': '2018-01-16'}, {'downloads': 604284, 'day': '2018-01-17'}, {'downloads': 608840, 'day': '2018-01-18'}, {'downloads': 545349, 'day': '2018-01-19'}, {'downloads': 178490, 'day': '2018-01-20'}, {'downloads': 157709, 'day': '2018-01-21'}, {'downloads': 582937, 'day': '2018-01-22'}, {'downloads': 621208, 'day': '2018-01-23'}, {'downloads': 611229, 'day': '2018-01-24'}, {'downloads': 586836, 'day': '2018-01-25'}, {'downloads': 536557, 'day': '2018-01-26'}, {'downloads': 184459, 'day': '2018-01-27'}, {'downloads': 169759, 'day': '2018-01-28'}, {'downloads': 605940, 'day': '2018-01-29'}, {'downloads': 646318, 'day': '2018-01-30'}, {'downloads': 631765, 'day': '2018-01-31'}, {'downloads': 640757, 'day': '2018-02-01'}, {'downloads': 572760, 'day': '2018-02-02'}, {'downloads': 180894, 'day': '2018-02-03'}, {'downloads': 158747, 'day': '2018-02-04'}, {'downloads': 586118, 'day': '2018-02-05'}, {'downloads': 637152, 'day': '2018-02-06'}, {'downloads': 649869, 'day': '2018-02-07'}, {'downloads': 652297, 'day': '2018-02-08'}, {'downloads': 588962, 'day': '2018-02-09'}, {'downloads': 193660, 'day': '2018-02-10'}, {'downloads': 201693, 'day': '2018-02-11'}, {'downloads': 661913, 'day': '2018-02-12'}, {'downloads': 741741, 'day': '2018-02-13'}, {'downloads': 756680, 'day': '2018-02-14'}, {'downloads': 744887, 'day': '2018-02-15'}, {'downloads': 664403, 'day': '2018-02-16'}, {'downloads': 219863, 'day': '2018-02-17'}, {'downloads': 206315, 'day': '2018-02-18'}, {'downloads': 622971, 'day': '2018-02-19'}, {'downloads': 753137, 'day': '2018-02-20'}, {'downloads': 780928, 'day': '2018-02-21'}, {'downloads': 755497, 'day': '2018-02-22'}, {'downloads': 702298, 'day': '2018-02-23'}, {'downloads': 242876, 'day': '2018-02-24'}, {'downloads': 226989, 'day': '2018-02-25'}, {'downloads': 769194, 'day': '2018-02-26'}, {'downloads': 832145, 'day': '2018-02-27'}, {'downloads': 794717, 'day': '2018-02-28'}]}\n"
     ]
    }
   ],
   "source": [
    "import time, requests, sys, pymongo, json, datetime\n",
    "\n",
    "\n",
    "start_date = datetime.datetime(2015, 3, 1)\n",
    "delta = datetime.timedelta(days=1095)\n",
    "end_date = start_date + delta\n",
    "dt_range = []\n",
    "final_date = end_date\n",
    "\n",
    "while start_date < final_date:\n",
    "    if end_date > final_date : end_date = final_date\n",
    "    dt_range.append((start_date.strftime('%Y-%m-%d'), end_date.strftime('%Y-%m-%d')))\n",
    "    start_date = end_date + datetime.timedelta(days=1)\n",
    "    end_date = start_date + delta\n",
    "\n",
    "# get data\n",
    "base_url = 'https://api.npmjs.org/downloads/range/'\n",
    "outstr = ''\n",
    "l = len(pkgs)\n",
    "i = 0\n",
    "print(l)\n",
    "for pkg in pkgs:\n",
    "    dl = []\n",
    "    i+=1\n",
    "  #  printProgressBar(i, l, prefix = 'Progress:', suffix = 'Complete', length = 50, decimals = 2)\n",
    "    for r in dt_range:\n",
    "        url = base_url+r[0]+':'+r[1]+'/'+pkg\n",
    "        try: r = requests.get(url)\n",
    "        except: outstr += 'Timeout '+ pkg+'\\n'\n",
    "        \n",
    "        try:\n",
    "            \n",
    "            result = r.content\n",
    "            try:\n",
    "                rj = json.loads(result.decode('utf-8', errors='ignore'))\n",
    "                dl = dl + (rj['downloads'])\n",
    "            except: outstr += 'DecodeError '+ pkg+'\\n'\n",
    "            \n",
    "        except: outstr += 'BadURL '+ pkg+'\\n'\n",
    "    \n",
    "    ent = {pkg: dl}\n",
    "    # Insert to MongoDB\n",
    "    print(ent)"
   ]
  },
  {
   "cell_type": "code",
   "execution_count": null,
   "metadata": {},
   "outputs": [],
   "source": []
  }
 ],
 "metadata": {
  "kernelspec": {
   "display_name": "Python 3",
   "language": "python",
   "name": "python3"
  },
  "language_info": {
   "codemirror_mode": {
    "name": "ipython",
    "version": 3
   },
   "file_extension": ".py",
   "mimetype": "text/x-python",
   "name": "python",
   "nbconvert_exporter": "python",
   "pygments_lexer": "ipython3",
   "version": "3.5.2"
  }
 },
 "nbformat": 4,
 "nbformat_minor": 2
}
