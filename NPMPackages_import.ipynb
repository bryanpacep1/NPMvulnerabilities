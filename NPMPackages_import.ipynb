{
 "cells": [
  {
   "cell_type": "code",
   "execution_count": 7,
   "metadata": {},
   "outputs": [],
   "source": [
    "import gzip, json\n",
    "with gzip.open('/data/NPMvulnerabilities/NPMPackages.json.gz', 'rb') as f:\n",
    "    fc = f.read().decode(\"utf-8\")\n",
    "from json import JSONDecoder, JSONDecodeError\n",
    "import re\n",
    "\n",
    "NOT_WHITESPACE = re.compile(r'[^\\s]')\n",
    "\n",
    "def decode_stacked(document, pos=0, decoder=JSONDecoder()):\n",
    "    while True:\n",
    "        match = NOT_WHITESPACE.search(document, pos)\n",
    "        if not match:\n",
    "            return\n",
    "        pos = match.start()\n",
    "\n",
    "        try:\n",
    "            obj, pos = decoder.raw_decode(document, pos)\n",
    "        except JSONDecodeError:\n",
    "            # do something sensible if there's some error\n",
    "            print(\"DECODE_STACKED() FAILED\")\n",
    "            pass\n",
    "        yield obj"
   ]
  },
  {
   "cell_type": "code",
   "execution_count": 9,
   "metadata": {},
   "outputs": [],
   "source": [
    "for obj in decode_stacked(fc):\n",
    "    ind = 0\n",
    "    try: versions = list(obj['versions'].keys())\n",
    "    except: continue\n",
    "    try: release_dates = obj['time']\n",
    "    except: continue\n",
    "    info = {key: {'release_date': release_dates[key]} for key in release_dates if key not in ['created', 'modified']}\n",
    "    for key in versions:\n",
    "        try:\n",
    "            info[key]['dependencies'] = list(obj['versions'][key]['dependencies'].keys())\n",
    "            if pkg in info[key]['dependencies']: ind = 1\n",
    "        except: continue\n",
    "    if ind :\n",
    "        dependent[pkg].append({obj['name']: info})"
   ]
  },
  {
   "cell_type": "code",
   "execution_count": null,
   "metadata": {},
   "outputs": [],
   "source": [
    "for k in dependent.keys():\n",
    "    if k == 'ajv-keywords':\n",
    "        print(k, dependent[k][0])\n",
    "        break"
   ]
  },
  {
   "cell_type": "code",
   "execution_count": null,
   "metadata": {},
   "outputs": [],
   "source": [
    "#user-info\n",
    "#    pji\n",
    "#        version 1.0\n",
    "#        date\n",
    "#        \n",
    "#        version 1.1\n",
    "#        date\n",
    "#    gifnoc\n",
    "#        version\n",
    "#        date\n",
    "        "
   ]
  },
  {
   "cell_type": "code",
   "execution_count": 35,
   "metadata": {},
   "outputs": [],
   "source": [
    "#pkgs = ['htmlnano', 'object.map', 'babylon-walk', 'wix-style-react', 'threads', 'minimist-options', 'lead', '@babel/polyfill', '@babel/helper-define-map', 'cloudscraper']\n",
    "pkgs = ['ajv-keywords']   \n",
    "dependent = {}\n",
    "for pkg in pkgs:\n",
    "    dependent[pkg] = []\n",
    "    for obj in decode_stacked(fc):\n",
    "        ind = 0\n",
    "        try: versions = list(obj['versions'].keys())\n",
    "        except: continue\n",
    "        try: release_dates = obj['time']\n",
    "        except: continue\n",
    "        info = {key: {'release_date': release_dates[key]} for key in release_dates if key not in ['created', 'modified']}\n",
    "        for key in versions:\n",
    "            try:\n",
    "                info[key]['dependencies'] = list(obj['versions'][key]['dependencies'].keys())\n",
    "                if pkg in info[key]['dependencies']: ind = 1\n",
    "            except: continue\n",
    "        if ind :\n",
    "            dependent[pkg].append({obj['name']})"
   ]
  },
  {
   "cell_type": "code",
   "execution_count": 36,
   "metadata": {},
   "outputs": [
    {
     "name": "stdout",
     "output_type": "stream",
     "text": [
      "ajv-keywords [{'jsonscript-proxy'}, {'senasaikou-yeoman'}, {'webpack-egoist'}, {'alex-d.js'}, {'advanced-image-loader'}, {'webpack-addons-ylvis'}, {'primeng-custom'}, {'jicli'}, {'@lgeiger/electron-builder'}, {'@touched/map-tool-project'}, {'generator-arc'}, {'node-private-tools'}, {'fhir2'}, {'webpack-ie8'}, {'mocoolka-tools'}, {'misstep'}, {'@cysonius/schema-utils'}, {'ng2-dnd-kokatsuna'}, {'qweb-client'}, {'@johnf/electron-builder'}]\n",
      "len =  157\n"
     ]
    }
   ],
   "source": [
    "for k in dependent.keys():\n",
    "    if k == 'ajv-keywords':\n",
    "        print(k, dependent[k][:20])\n",
    "        print(\"len = \", len(dependent[k]))\n",
    "        break"
   ]
  },
  {
   "cell_type": "code",
   "execution_count": null,
   "metadata": {},
   "outputs": [],
   "source": [
    "#ajv-keywords\n",
    "    #jsconscript-proxy\n",
    "    #senasaikou-yeoman\n",
    "    #webpack-egoist\n",
    "#user-info\n",
    "    #ajv-keywords\n",
    "        "
   ]
  },
  {
   "cell_type": "code",
   "execution_count": 38,
   "metadata": {},
   "outputs": [
    {
     "name": "stdout",
     "output_type": "stream",
     "text": [
      "ajv-keywords [{'jsonscript-proxy'}, {'senasaikou-yeoman'}, {'webpack-egoist'}, {'alex-d.js'}, {'advanced-image-loader'}, {'webpack-addons-ylvis'}, {'primeng-custom'}, {'jicli'}, {'@lgeiger/electron-builder'}, {'@touched/map-tool-project'}, {'generator-arc'}, {'node-private-tools'}, {'fhir2'}, {'webpack-ie8'}, {'mocoolka-tools'}, {'misstep'}, {'@cysonius/schema-utils'}, {'ng2-dnd-kokatsuna'}, {'qweb-client'}, {'@johnf/electron-builder'}]\n",
      "len =  157\n"
     ]
    }
   ],
   "source": [
    "for k in dependent.keys():\n",
    "    print(k, dependent[k][:20])\n",
    "    print(\"len = \", len(dependent[k]))\n",
    "    break"
   ]
  },
  {
   "cell_type": "code",
   "execution_count": 97,
   "metadata": {},
   "outputs": [
    {
     "name": "stdout",
     "output_type": "stream",
     "text": [
      "1\n",
      "{'ajv-keywords': [{'end': '2015-03-08', 'package': 'ajv-keywords', 'downloads': 0, 'start': '2015-03-01'}, {'end': '2015-03-16', 'package': 'ajv-keywords', 'downloads': 0, 'start': '2015-03-09'}, {'end': '2015-03-24', 'package': 'ajv-keywords', 'downloads': 0, 'start': '2015-03-17'}, {'end': '2015-04-01', 'package': 'ajv-keywords', 'downloads': 0, 'start': '2015-03-25'}, {'end': '2015-04-09', 'package': 'ajv-keywords', 'downloads': 0, 'start': '2015-04-02'}, {'end': '2015-04-17', 'package': 'ajv-keywords', 'downloads': 0, 'start': '2015-04-10'}, {'end': '2015-04-25', 'package': 'ajv-keywords', 'downloads': 0, 'start': '2015-04-18'}, {'end': '2015-05-03', 'package': 'ajv-keywords', 'downloads': 0, 'start': '2015-04-26'}, {'end': '2015-05-11', 'package': 'ajv-keywords', 'downloads': 0, 'start': '2015-05-04'}, {'end': '2015-05-19', 'package': 'ajv-keywords', 'downloads': 0, 'start': '2015-05-12'}, {'end': '2015-05-27', 'package': 'ajv-keywords', 'downloads': 0, 'start': '2015-05-20'}, {'end': '2015-06-04', 'package': 'ajv-keywords', 'downloads': 0, 'start': '2015-05-28'}, {'end': '2015-06-12', 'package': 'ajv-keywords', 'downloads': 0, 'start': '2015-06-05'}, {'end': '2015-06-20', 'package': 'ajv-keywords', 'downloads': 0, 'start': '2015-06-13'}, {'end': '2015-06-28', 'package': 'ajv-keywords', 'downloads': 0, 'start': '2015-06-21'}, {'end': '2015-07-06', 'package': 'ajv-keywords', 'downloads': 0, 'start': '2015-06-29'}, {'end': '2015-07-14', 'package': 'ajv-keywords', 'downloads': 0, 'start': '2015-07-07'}, {'end': '2015-07-22', 'package': 'ajv-keywords', 'downloads': 0, 'start': '2015-07-15'}, {'end': '2015-07-30', 'package': 'ajv-keywords', 'downloads': 0, 'start': '2015-07-23'}, {'end': '2015-08-07', 'package': 'ajv-keywords', 'downloads': 0, 'start': '2015-07-31'}, {'end': '2015-08-15', 'package': 'ajv-keywords', 'downloads': 0, 'start': '2015-08-08'}, {'end': '2015-08-23', 'package': 'ajv-keywords', 'downloads': 0, 'start': '2015-08-16'}, {'end': '2015-08-31', 'package': 'ajv-keywords', 'downloads': 0, 'start': '2015-08-24'}, {'end': '2015-09-08', 'package': 'ajv-keywords', 'downloads': 0, 'start': '2015-09-01'}, {'end': '2015-09-16', 'package': 'ajv-keywords', 'downloads': 0, 'start': '2015-09-09'}, {'end': '2015-09-24', 'package': 'ajv-keywords', 'downloads': 0, 'start': '2015-09-17'}, {'end': '2015-10-02', 'package': 'ajv-keywords', 'downloads': 0, 'start': '2015-09-25'}, {'end': '2015-10-10', 'package': 'ajv-keywords', 'downloads': 0, 'start': '2015-10-03'}, {'end': '2015-10-18', 'package': 'ajv-keywords', 'downloads': 0, 'start': '2015-10-11'}, {'end': '2015-10-26', 'package': 'ajv-keywords', 'downloads': 0, 'start': '2015-10-19'}, {'end': '2015-11-03', 'package': 'ajv-keywords', 'downloads': 0, 'start': '2015-10-27'}, {'end': '2015-11-11', 'package': 'ajv-keywords', 'downloads': 0, 'start': '2015-11-04'}, {'end': '2015-11-19', 'package': 'ajv-keywords', 'downloads': 0, 'start': '2015-11-12'}, {'end': '2015-11-27', 'package': 'ajv-keywords', 'downloads': 0, 'start': '2015-11-20'}, {'end': '2015-12-05', 'package': 'ajv-keywords', 'downloads': 0, 'start': '2015-11-28'}, {'end': '2015-12-13', 'package': 'ajv-keywords', 'downloads': 0, 'start': '2015-12-06'}, {'end': '2015-12-21', 'package': 'ajv-keywords', 'downloads': 0, 'start': '2015-12-14'}, {'end': '2015-12-29', 'package': 'ajv-keywords', 'downloads': 0, 'start': '2015-12-22'}, {'end': '2016-01-06', 'package': 'ajv-keywords', 'downloads': 0, 'start': '2015-12-30'}, {'end': '2016-01-14', 'package': 'ajv-keywords', 'downloads': 0, 'start': '2016-01-07'}, {'end': '2016-01-22', 'package': 'ajv-keywords', 'downloads': 0, 'start': '2016-01-15'}, {'end': '2016-01-30', 'package': 'ajv-keywords', 'downloads': 0, 'start': '2016-01-23'}, {'end': '2016-02-07', 'package': 'ajv-keywords', 'downloads': 0, 'start': '2016-01-31'}, {'end': '2016-02-15', 'package': 'ajv-keywords', 'downloads': 0, 'start': '2016-02-08'}, {'end': '2016-02-23', 'package': 'ajv-keywords', 'downloads': 0, 'start': '2016-02-16'}, {'end': '2016-03-02', 'package': 'ajv-keywords', 'downloads': 0, 'start': '2016-02-24'}, {'end': '2016-03-10', 'package': 'ajv-keywords', 'downloads': 0, 'start': '2016-03-03'}, {'end': '2016-03-18', 'package': 'ajv-keywords', 'downloads': 0, 'start': '2016-03-11'}, {'end': '2016-03-26', 'package': 'ajv-keywords', 'downloads': 0, 'start': '2016-03-19'}, {'end': '2016-04-03', 'package': 'ajv-keywords', 'downloads': 0, 'start': '2016-03-27'}, {'end': '2016-04-11', 'package': 'ajv-keywords', 'downloads': 0, 'start': '2016-04-04'}, {'end': '2016-04-19', 'package': 'ajv-keywords', 'downloads': 0, 'start': '2016-04-12'}, {'end': '2016-04-27', 'package': 'ajv-keywords', 'downloads': 0, 'start': '2016-04-20'}, {'end': '2016-05-05', 'package': 'ajv-keywords', 'downloads': 0, 'start': '2016-04-28'}, {'end': '2016-05-13', 'package': 'ajv-keywords', 'downloads': 0, 'start': '2016-05-06'}, {'end': '2016-05-21', 'package': 'ajv-keywords', 'downloads': 0, 'start': '2016-05-14'}, {'end': '2016-05-29', 'package': 'ajv-keywords', 'downloads': 0, 'start': '2016-05-22'}, {'end': '2016-06-06', 'package': 'ajv-keywords', 'downloads': 74, 'start': '2016-05-30'}, {'end': '2016-06-14', 'package': 'ajv-keywords', 'downloads': 67, 'start': '2016-06-07'}, {'end': '2016-06-22', 'package': 'ajv-keywords', 'downloads': 24, 'start': '2016-06-15'}, {'end': '2016-06-30', 'package': 'ajv-keywords', 'downloads': 15, 'start': '2016-06-23'}, {'end': '2016-07-08', 'package': 'ajv-keywords', 'downloads': 37, 'start': '2016-07-01'}, {'end': '2016-07-16', 'package': 'ajv-keywords', 'downloads': 4, 'start': '2016-07-09'}, {'end': '2016-07-24', 'package': 'ajv-keywords', 'downloads': 10, 'start': '2016-07-17'}, {'end': '2016-08-01', 'package': 'ajv-keywords', 'downloads': 3, 'start': '2016-07-25'}, {'end': '2016-08-09', 'package': 'ajv-keywords', 'downloads': 5, 'start': '2016-08-02'}, {'end': '2016-08-17', 'package': 'ajv-keywords', 'downloads': 27, 'start': '2016-08-10'}, {'end': '2016-08-25', 'package': 'ajv-keywords', 'downloads': 13, 'start': '2016-08-18'}, {'end': '2016-09-02', 'package': 'ajv-keywords', 'downloads': 9, 'start': '2016-08-26'}, {'end': '2016-09-10', 'package': 'ajv-keywords', 'downloads': 14, 'start': '2016-09-03'}, {'end': '2016-09-18', 'package': 'ajv-keywords', 'downloads': 43658, 'start': '2016-09-11'}, {'end': '2016-09-26', 'package': 'ajv-keywords', 'downloads': 660892, 'start': '2016-09-19'}, {'end': '2016-10-04', 'package': 'ajv-keywords', 'downloads': 672010, 'start': '2016-09-27'}, {'end': '2016-10-12', 'package': 'ajv-keywords', 'downloads': 618657, 'start': '2016-10-05'}, {'end': '2016-10-20', 'package': 'ajv-keywords', 'downloads': 719931, 'start': '2016-10-13'}, {'end': '2016-10-28', 'package': 'ajv-keywords', 'downloads': 697553, 'start': '2016-10-21'}, {'end': '2016-11-05', 'package': 'ajv-keywords', 'downloads': 672419, 'start': '2016-10-29'}, {'end': '2016-11-13', 'package': 'ajv-keywords', 'downloads': 662118, 'start': '2016-11-06'}, {'end': '2016-11-21', 'package': 'ajv-keywords', 'downloads': 845538, 'start': '2016-11-14'}, {'end': '2016-11-29', 'package': 'ajv-keywords', 'downloads': 784727, 'start': '2016-11-22'}, {'end': '2016-12-07', 'package': 'ajv-keywords', 'downloads': 947584, 'start': '2016-11-30'}, {'end': '2016-12-15', 'package': 'ajv-keywords', 'downloads': 975962, 'start': '2016-12-08'}, {'end': '2016-12-23', 'package': 'ajv-keywords', 'downloads': 858000, 'start': '2016-12-16'}, {'end': '2016-12-31', 'package': 'ajv-keywords', 'downloads': 536402, 'start': '2016-12-24'}, {'end': '2017-01-08', 'package': 'ajv-keywords', 'downloads': 802813, 'start': '2017-01-01'}, {'end': '2017-01-16', 'package': 'ajv-keywords', 'downloads': 1087448, 'start': '2017-01-09'}, {'end': '2017-01-24', 'package': 'ajv-keywords', 'downloads': 1196924, 'start': '2017-01-17'}, {'end': '2017-02-01', 'package': 'ajv-keywords', 'downloads': 1231201, 'start': '2017-01-25'}, {'end': '2017-02-09', 'package': 'ajv-keywords', 'downloads': 1330293, 'start': '2017-02-02'}, {'end': '2017-02-17', 'package': 'ajv-keywords', 'downloads': 1329359, 'start': '2017-02-10'}, {'end': '2017-02-25', 'package': 'ajv-keywords', 'downloads': 1219163, 'start': '2017-02-18'}, {'end': '2017-03-05', 'package': 'ajv-keywords', 'downloads': 1370401, 'start': '2017-02-26'}, {'end': '2017-03-13', 'package': 'ajv-keywords', 'downloads': 1551830, 'start': '2017-03-06'}, {'end': '2017-03-21', 'package': 'ajv-keywords', 'downloads': 1594321, 'start': '2017-03-14'}, {'end': '2017-03-29', 'package': 'ajv-keywords', 'downloads': 1659158, 'start': '2017-03-22'}, {'end': '2017-04-06', 'package': 'ajv-keywords', 'downloads': 1642126, 'start': '2017-03-30'}, {'end': '2017-04-14', 'package': 'ajv-keywords', 'downloads': 1582403, 'start': '2017-04-07'}, {'end': '2017-04-22', 'package': 'ajv-keywords', 'downloads': 1391275, 'start': '2017-04-15'}, {'end': '2017-04-30', 'package': 'ajv-keywords', 'downloads': 1591995, 'start': '2017-04-23'}, {'end': '2017-05-08', 'package': 'ajv-keywords', 'downloads': 1653030, 'start': '2017-05-01'}, {'end': '2017-05-16', 'package': 'ajv-keywords', 'downloads': 1793474, 'start': '2017-05-09'}, {'end': '2017-05-24', 'package': 'ajv-keywords', 'downloads': 1786384, 'start': '2017-05-17'}, {'end': '2017-06-01', 'package': 'ajv-keywords', 'downloads': 1693551, 'start': '2017-05-25'}, {'end': '2017-06-09', 'package': 'ajv-keywords', 'downloads': 1870540, 'start': '2017-06-02'}, {'end': '2017-06-17', 'package': 'ajv-keywords', 'downloads': 1705171, 'start': '2017-06-10'}, {'end': '2017-06-25', 'package': 'ajv-keywords', 'downloads': 1885984, 'start': '2017-06-18'}, {'end': '2017-07-03', 'package': 'ajv-keywords', 'downloads': 2094525, 'start': '2017-06-26'}, {'end': '2017-07-11', 'package': 'ajv-keywords', 'downloads': 2132625, 'start': '2017-07-04'}, {'end': '2017-07-19', 'package': 'ajv-keywords', 'downloads': 2320525, 'start': '2017-07-12'}, {'end': '2017-07-27', 'package': 'ajv-keywords', 'downloads': 2430002, 'start': '2017-07-20'}, {'end': '2017-08-04', 'package': 'ajv-keywords', 'downloads': 2236942, 'start': '2017-07-28'}, {'end': '2017-08-12', 'package': 'ajv-keywords', 'downloads': 2226254, 'start': '2017-08-05'}, {'end': '2017-08-20', 'package': 'ajv-keywords', 'downloads': 2244390, 'start': '2017-08-13'}, {'end': '2017-08-28', 'package': 'ajv-keywords', 'downloads': 2597058, 'start': '2017-08-21'}, {'end': '2017-09-05', 'package': 'ajv-keywords', 'downloads': 2655734, 'start': '2017-08-29'}, {'end': '2017-09-13', 'package': 'ajv-keywords', 'downloads': 3018901, 'start': '2017-09-06'}, {'end': '2017-09-21', 'package': 'ajv-keywords', 'downloads': 3055581, 'start': '2017-09-14'}, {'end': '2017-09-29', 'package': 'ajv-keywords', 'downloads': 3098115, 'start': '2017-09-22'}, {'end': '2017-10-07', 'package': 'ajv-keywords', 'downloads': 2822638, 'start': '2017-09-30'}, {'end': '2017-10-15', 'package': 'ajv-keywords', 'downloads': 2924676, 'start': '2017-10-08'}, {'end': '2017-10-23', 'package': 'ajv-keywords', 'downloads': 3398577, 'start': '2017-10-16'}, {'end': '2017-10-31', 'package': 'ajv-keywords', 'downloads': 3644299, 'start': '2017-10-24'}, {'end': '2017-11-08', 'package': 'ajv-keywords', 'downloads': 3772303, 'start': '2017-11-01'}, {'end': '2017-11-16', 'package': 'ajv-keywords', 'downloads': 3780827, 'start': '2017-11-09'}, {'end': '2017-11-24', 'package': 'ajv-keywords', 'downloads': 3336250, 'start': '2017-11-17'}, {'end': '2017-12-02', 'package': 'ajv-keywords', 'downloads': 3285088, 'start': '2017-11-25'}, {'end': '2017-12-10', 'package': 'ajv-keywords', 'downloads': 3273941, 'start': '2017-12-03'}, {'end': '2017-12-18', 'package': 'ajv-keywords', 'downloads': 3648781, 'start': '2017-12-11'}, {'end': '2017-12-26', 'package': 'ajv-keywords', 'downloads': 2941248, 'start': '2017-12-19'}, {'end': '2018-01-03', 'package': 'ajv-keywords', 'downloads': 2491924, 'start': '2017-12-27'}, {'end': '2018-01-11', 'package': 'ajv-keywords', 'downloads': 3565823, 'start': '2018-01-04'}, {'end': '2018-01-19', 'package': 'ajv-keywords', 'downloads': 3691067, 'start': '2018-01-12'}, {'end': '2018-01-27', 'package': 'ajv-keywords', 'downloads': 3459425, 'start': '2018-01-20'}, {'end': '2018-02-04', 'package': 'ajv-keywords', 'downloads': 3606940, 'start': '2018-01-28'}, {'end': '2018-02-12', 'package': 'ajv-keywords', 'downloads': 4171664, 'start': '2018-02-05'}, {'end': '2018-02-20', 'package': 'ajv-keywords', 'downloads': 4709997, 'start': '2018-02-13'}, {'end': '2018-02-28', 'package': 'ajv-keywords', 'downloads': 5104644, 'start': '2018-02-21'}, {'end': '2018-03-08', 'package': 'ajv-keywords', 'downloads': 5354663, 'start': '2018-03-01'}, {'end': '2018-03-16', 'package': 'ajv-keywords', 'downloads': 5347689, 'start': '2018-03-09'}, {'end': '2018-03-24', 'package': 'ajv-keywords', 'downloads': 4996386, 'start': '2018-03-17'}, {'end': '2018-04-01', 'package': 'ajv-keywords', 'downloads': 4751741, 'start': '2018-03-25'}, {'end': '2018-04-09', 'package': 'ajv-keywords', 'downloads': 5309028, 'start': '2018-04-02'}, {'end': '2018-04-17', 'package': 'ajv-keywords', 'downloads': 5777256, 'start': '2018-04-10'}, {'end': '2018-04-25', 'package': 'ajv-keywords', 'downloads': 5829636, 'start': '2018-04-18'}, {'end': '2018-05-03', 'package': 'ajv-keywords', 'downloads': 5706536, 'start': '2018-04-26'}, {'end': '2018-05-11', 'package': 'ajv-keywords', 'downloads': 5954982, 'start': '2018-05-04'}, {'end': '2018-05-19', 'package': 'ajv-keywords', 'downloads': 5790117, 'start': '2018-05-12'}, {'end': '2018-05-27', 'package': 'ajv-keywords', 'downloads': 5462805, 'start': '2018-05-20'}, {'end': '2018-06-04', 'package': 'ajv-keywords', 'downloads': 2169529, 'start': '2018-05-28'}, {'end': '2018-06-12', 'package': 'ajv-keywords', 'downloads': 6689668, 'start': '2018-06-05'}, {'end': '2018-06-20', 'package': 'ajv-keywords', 'downloads': 6680399, 'start': '2018-06-13'}, {'end': '2018-06-28', 'package': 'ajv-keywords', 'downloads': 6901118, 'start': '2018-06-21'}, {'end': '2018-07-06', 'package': 'ajv-keywords', 'downloads': 6150026, 'start': '2018-06-29'}, {'end': '2018-07-14', 'package': 'ajv-keywords', 'downloads': 6064850, 'start': '2018-07-07'}, {'end': '2018-07-22', 'package': 'ajv-keywords', 'downloads': 5907637, 'start': '2018-07-15'}, {'end': '2018-07-30', 'package': 'ajv-keywords', 'downloads': 6829618, 'start': '2018-07-23'}, {'end': '2018-08-07', 'package': 'ajv-keywords', 'downloads': 6022824, 'start': '2018-07-31'}, {'end': '2018-08-15', 'package': 'ajv-keywords', 'downloads': 6810587, 'start': '2018-08-08'}, {'end': '2018-08-23', 'package': 'ajv-keywords', 'downloads': 7014377, 'start': '2018-08-16'}, {'end': '2018-08-31', 'package': 'ajv-keywords', 'downloads': 5811463, 'start': '2018-08-24'}, {'end': '2018-09-08', 'package': 'ajv-keywords', 'downloads': 6033281, 'start': '2018-09-01'}, {'end': '2018-09-16', 'package': 'ajv-keywords', 'downloads': 5652924, 'start': '2018-09-09'}, {'end': '2018-09-24', 'package': 'ajv-keywords', 'downloads': 6374941, 'start': '2018-09-17'}, {'end': '2018-10-01', 'package': 'ajv-keywords', 'downloads': 7062775, 'start': '2018-09-25'}]}\n"
     ]
    }
   ],
   "source": [
    "import time, requests, sys, pymongo, json, datetime\n",
    "\n",
    "\n",
    "start_date = datetime.datetime(2015, 3, 1)\n",
    "delta = datetime.timedelta(days=7)\n",
    "end_date = start_date + delta\n",
    "dt_range = []\n",
    "final_date = datetime.datetime(2018, 10, 1)\n",
    "\n",
    "while start_date < final_date:\n",
    "    if end_date > final_date : end_date = final_date\n",
    "    dt_range.append((start_date.strftime('%Y-%m-%d'), end_date.strftime('%Y-%m-%d')))\n",
    "    start_date = end_date + datetime.timedelta(days=1)\n",
    "    end_date = start_date + delta\n",
    "\n",
    "\n",
    "# get data\n",
    "base_url = 'https://api.npmjs.org/downloads/point/'\n",
    "outstr = ''\n",
    "l = len(pkgs)\n",
    "i = 0\n",
    "print(l)\n",
    "for pkg in pkgs:\n",
    "    dl = []\n",
    "    i+=1\n",
    "  #  printProgressBar(i, l, prefix = 'Progress:', suffix = 'Complete', length = 50, decimals = 2)\n",
    "    for r in dt_range:\n",
    "        url = base_url+r[0]+':'+r[1]+'/'+pkg\n",
    "        try: r = requests.get(url)\n",
    "        except: print('Timeout '+ pkg+'\\n')\n",
    "        \n",
    "        try:\n",
    "            \n",
    "            result = r.content\n",
    "            try:\n",
    "                rj = json.loads(result.decode('utf-8', errors='ignore'))\n",
    "                #print(rj)\n",
    "            except: print('DecodeError 1 '+ pkg+'\\n')\n",
    "            #try:\n",
    "                #temp = {start: rj['start'], end: rj['end']}\n",
    "                #print(rj['downloads'])\n",
    "                #print(temp['start'])\n",
    "                \n",
    "            #except:\n",
    "                #print(\"WRONG\")\n",
    "            try:\n",
    "                dl = dl + [rj]\n",
    "            except: print('DecodeError 2 '+ pkg+'\\n')\n",
    "            \n",
    "        except: print('BadURL '+ pkg+'\\n')\n",
    "    \n",
    "    ent = {pkg: dl}\n",
    "    # Insert to MongoDB\n",
    "    print(ent)"
   ]
  },
  {
   "cell_type": "code",
   "execution_count": null,
   "metadata": {},
   "outputs": [],
   "source": []
  },
  {
   "cell_type": "code",
   "execution_count": null,
   "metadata": {},
   "outputs": [],
   "source": []
  }
 ],
 "metadata": {
  "kernelspec": {
   "display_name": "Python 3",
   "language": "python",
   "name": "python3"
  },
  "language_info": {
   "codemirror_mode": {
    "name": "ipython",
    "version": 3
   },
   "file_extension": ".py",
   "mimetype": "text/x-python",
   "name": "python",
   "nbconvert_exporter": "python",
   "pygments_lexer": "ipython3",
   "version": "3.5.2"
  }
 },
 "nbformat": 4,
 "nbformat_minor": 2
}
