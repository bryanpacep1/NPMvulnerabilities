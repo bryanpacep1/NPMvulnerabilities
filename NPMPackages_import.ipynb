{
 "cells": [
  {
   "cell_type": "code",
   "execution_count": 7,
   "metadata": {},
   "outputs": [],
   "source": [
    "import gzip, json\n",
    "with gzip.open('/data/NPMvulnerabilities/NPMPackages.json.gz', 'rb') as f:\n",
    "    fc = f.read().decode(\"utf-8\")\n",
    "from json import JSONDecoder, JSONDecodeError\n",
    "import re\n",
    "\n",
    "NOT_WHITESPACE = re.compile(r'[^\\s]')\n",
    "\n",
    "def decode_stacked(document, pos=0, decoder=JSONDecoder()):\n",
    "    while True:\n",
    "        match = NOT_WHITESPACE.search(document, pos)\n",
    "        if not match:\n",
    "            return\n",
    "        pos = match.start()\n",
    "\n",
    "        try:\n",
    "            obj, pos = decoder.raw_decode(document, pos)\n",
    "        except JSONDecodeError:\n",
    "            # do something sensible if there's some error\n",
    "            print(\"DECODE_STACKED() FAILED\")\n",
    "            pass\n",
    "        yield obj"
   ]
  },
  {
   "cell_type": "code",
   "execution_count": 9,
   "metadata": {},
   "outputs": [],
   "source": [
    "for obj in decode_stacked(fc):\n",
    "    ind = 0\n",
    "    try: versions = list(obj['versions'].keys())\n",
    "    except: continue\n",
    "    try: release_dates = obj['time']\n",
    "    except: continue\n",
    "    info = {key: {'release_date': release_dates[key]} for key in release_dates if key not in ['created', 'modified']}\n",
    "    for key in versions:\n",
    "        try:\n",
    "            info[key]['dependencies'] = list(obj['versions'][key]['dependencies'].keys())\n",
    "            if pkg in info[key]['dependencies']: ind = 1\n",
    "        except: continue\n",
    "    if ind :\n",
    "        dependent[pkg].append({obj['name']: info})"
   ]
  },
  {
   "cell_type": "code",
   "execution_count": null,
   "metadata": {},
   "outputs": [],
   "source": [
    "for k in dependent.keys():\n",
    "    if k == 'ajv-keywords':\n",
    "        print(k, dependent[k][0])\n",
    "        break"
   ]
  },
  {
   "cell_type": "code",
   "execution_count": null,
   "metadata": {},
   "outputs": [],
   "source": [
    "#user-info\n",
    "#    pji\n",
    "#        version 1.0\n",
    "#        date\n",
    "#        \n",
    "#        version 1.1\n",
    "#        date\n",
    "#    gifnoc\n",
    "#        version\n",
    "#        date\n",
    "        "
   ]
  },
  {
   "cell_type": "code",
   "execution_count": 9,
   "metadata": {},
   "outputs": [],
   "source": [
    "#pkgs = ['htmlnano', 'object.map', 'babylon-walk', 'wix-style-react', 'threads', 'minimist-options', 'lead', '@babel/polyfill', '@babel/helper-define-map', 'cloudscraper']\n",
    "pkgs = ['ajv-keywords']   \n",
    "dependent = {}\n",
    "for pkg in pkgs:\n",
    "    dependent[pkg] = []\n",
    "    for obj in decode_stacked(fc):\n",
    "        ind = 0\n",
    "        try: versions = list(obj['versions'].keys())\n",
    "        except: continue\n",
    "        try: release_dates = obj['time']\n",
    "        except: continue\n",
    "        info = {key: {'release_date': release_dates[key]} for key in release_dates if key not in ['created', 'modified']}\n",
    "        for key in versions:\n",
    "            try:\n",
    "                info[key]['dependencies'] = list(obj['versions'][key]['dependencies'].keys())\n",
    "                if pkg in info[key]['dependencies']: ind = 1\n",
    "            except: continue\n",
    "        if ind :\n",
    "            dependent[pkg].append({obj['name']})"
   ]
  },
  {
   "cell_type": "code",
   "execution_count": 36,
   "metadata": {},
   "outputs": [
    {
     "name": "stdout",
     "output_type": "stream",
     "text": [
      "ajv-keywords [{'jsonscript-proxy'}, {'senasaikou-yeoman'}, {'webpack-egoist'}, {'alex-d.js'}, {'advanced-image-loader'}, {'webpack-addons-ylvis'}, {'primeng-custom'}, {'jicli'}, {'@lgeiger/electron-builder'}, {'@touched/map-tool-project'}, {'generator-arc'}, {'node-private-tools'}, {'fhir2'}, {'webpack-ie8'}, {'mocoolka-tools'}, {'misstep'}, {'@cysonius/schema-utils'}, {'ng2-dnd-kokatsuna'}, {'qweb-client'}, {'@johnf/electron-builder'}]\n",
      "len =  157\n"
     ]
    }
   ],
   "source": [
    "for k in dependent.keys():\n",
    "    if k == 'ajv-keywords':\n",
    "        print(k, dependent[k][:20])\n",
    "        print(\"len = \", len(dependent[k]))\n",
    "        break"
   ]
  },
  {
   "cell_type": "code",
   "execution_count": null,
   "metadata": {},
   "outputs": [],
   "source": [
    "#ajv-keywords\n",
    "    #jsconscript-proxy\n",
    "    #senasaikou-yeoman\n",
    "    #webpack-egoist\n",
    "#user-info\n",
    "    #ajv-keywords\n",
    "        "
   ]
  },
  {
   "cell_type": "code",
   "execution_count": 38,
   "metadata": {},
   "outputs": [
    {
     "name": "stdout",
     "output_type": "stream",
     "text": [
      "ajv-keywords [{'jsonscript-proxy'}, {'senasaikou-yeoman'}, {'webpack-egoist'}, {'alex-d.js'}, {'advanced-image-loader'}, {'webpack-addons-ylvis'}, {'primeng-custom'}, {'jicli'}, {'@lgeiger/electron-builder'}, {'@touched/map-tool-project'}, {'generator-arc'}, {'node-private-tools'}, {'fhir2'}, {'webpack-ie8'}, {'mocoolka-tools'}, {'misstep'}, {'@cysonius/schema-utils'}, {'ng2-dnd-kokatsuna'}, {'qweb-client'}, {'@johnf/electron-builder'}]\n",
      "len =  157\n"
     ]
    }
   ],
   "source": [
    "for k in dependent.keys():\n",
    "    print(k, dependent[k][:20])\n",
    "    print(\"len = \", len(dependent[k]))\n",
    "    break"
   ]
  },
  {
   "cell_type": "code",
   "execution_count": null,
   "metadata": {},
   "outputs": [],
   "source": [
    "import time, requests, sys, pymongo, json, datetime\n",
    "\n",
    "\n",
    "dbname = \"NPMvulnerabilities\"\n",
    "collname = \"dl_data\"\n",
    "client = pymongo.MongoClient(\"da1.eecs.utk.edu\")\n",
    "\n",
    "db = client[dbname]\n",
    "coll = db[collname]\n",
    "\n",
    "pkgs = ['ajv-keywords', 'htmlnano']\n",
    "start_date = datetime.datetime(2015, 3, 1)\n",
    "delta = datetime.timedelta(days=7)\n",
    "end_date = start_date + delta\n",
    "dt_range = []\n",
    "final_date = datetime.datetime(2018, 10, 1)\n",
    "\n",
    "while start_date < final_date:\n",
    "    if end_date > final_date : end_date = final_date\n",
    "    dt_range.append((start_date.strftime('%Y-%m-%d'), end_date.strftime('%Y-%m-%d')))\n",
    "    start_date = end_date + datetime.timedelta(days=1)\n",
    "    end_date = start_date + delta\n",
    "\n",
    "\n",
    "# get data\n",
    "base_url = 'https://api.npmjs.org/downloads/point/'\n",
    "l = len(pkgs)\n",
    "print(l)\n",
    "for pkg in pkgs:\n",
    "    dl = []\n",
    "    for r in dt_range:\n",
    "        url = base_url+r[0]+':'+r[1]+'/'+pkg\n",
    "        try: r = requests.get(url)\n",
    "        except: print('Timeout '+ pkg+'\\n')\n",
    "        \n",
    "        try:\n",
    "            result = r.content\n",
    "            try:\n",
    "                rj = json.loads(result.decode('utf-8', errors='ignore'))\n",
    "                rj.pop('package', None)\n",
    "                dl = dl + [rj]\n",
    "            except: print('DecodeError '+ pkg+'\\n')\n",
    "        except: print('BadURL '+ pkg+'\\n')\n",
    "    \n",
    "    ent = {'name':pkg, 'dl': dl}\n",
    "    coll.insert_one(ent)\n",
    "    print(ent)"
   ]
  },
  {
   "cell_type": "code",
   "execution_count": 12,
   "metadata": {},
   "outputs": [
    {
     "name": "stdout",
     "output_type": "stream",
     "text": [
      "Start date of spike: 2016-05-30\n",
      "Start date of fall: 2016-07-09\n",
      "Start date of spike: 2016-09-11\n",
      "Start date of spike: 2016-09-19\n",
      "[0.0, 0.0, 0.0, 0.0, 0.0, 0.0, 0.0, 0.0, 0.0, 0.0, 0.0, 0.0, 0.0, 0.0, 0.0, 0.0, 0.0, 0.0, 0.0, 0.0, 0.0, 0.0, 0.0, 0.0, 0.0, 0.0, 0.0, 0.0, 0.0, 0.0, 0.0, 0.0, 0.0, 0.0, 0.0, 0.0, 0.0, 0.0, 0.0, 0.0, 0.0, 0.0, 0.0, 0.0, 0.0, 0.0, 0.0, 0.0, 0.0, 0.0, 0.0, 0.0, 0.0, 0.0, 0.0, 0.0, 4.31748811353631, -0.09798040836020316, -1.0006318803079064, -0.4462871026284194, 0.8649974374866045, -2.028148247292285, 0.7884573603642704, -1.01160091167848, 0.4054651081081644, 1.5404450409471488, -0.6931471805599454, -0.3364722366212125, 0.40546510810816416, 7.976114524479225, 2.7171825042035262, 0.01668275863397284, -0.08272209347757276, 0.15160414714627457, -0.03157683305186332, -0.03669678476164506, -0.015437847201415167, 0.24452899573659792, -0.0746371329039448, 0.18857948177220507, 0.029508033162995773, -0.1288194108699816, -0.469719520755401, 0.40323731150070685, 0.30346680957768335, 0.09592118164192165, 0.028235160001440107, 0.0774090424640459, -0.0007023470258875619, -0.0865322454555777, 0.11693874949936856, 0.12433139662470083, 0.027013043416168614, 0.03986227998837677, -0.010318494742984186, -0.03704714305189327, -0.12872389802597617, 0.13476726319321664, 0.03762199758782003, 0.08154450622402898, -0.003961053935150005, -0.053365926289430377, 0.09939959539527266, -0.09256170842590805, 0.10078424542638054, 0.10487704395250574, 0.018026809426777035, 0.08443979989959871, 0.046098607801480895, -0.0827822902905524, -0.004789400080579043, 0.008113413357778043, 0.1459454360376764, 0.02234180159611654, 0.12817173657796488, 0.012076892726309296, 0.013824102961319085, -0.09312192185520374, 0.03551178428541846, 0.1501730616073793, 0.06980719427886051, 0.03452165225103343, 0.0022570778899986266, -0.1250953117888347, -0.015453977058442092, -0.003398980956740516, 0.1083986498153866, -0.2155590922066093, -0.1657788169037584, 0.35833965903920273, 0.03452068386638274, -0.0648131677160837, 0.04175736535055563, 0.1454551919907967, 0.12137224670481395, 0.08046342613185509, 0.04781704730147496, -0.0013032648681043923, -0.06794964073212739, -0.050203763575748184, 0.11089766835178061, 0.08452004655853784, 0.009025731705509799, -0.02134237444824194, 0.04261598823455337, -0.02807567671658262, -0.05819009418331511, -0.9234520229277319, 1.1260538418533805, -0.0013865300897020205, 0.03250570637216477, -0.11522710031479733, -0.01394649714724494, -0.02626388496394405, 0.14502279877631707, -0.12571247036641076, 0.12292204169495058, 0.029483582435062772, -0.18812952401311023, 0.037458622811868736, -0.06511803096674207, 0.12020188265044673]\n"
     ]
    }
   ],
   "source": [
    "import math\n",
    "total_list = []\n",
    "start_date = []\n",
    "end_date = []\n",
    "download_list = []\n",
    "\n",
    "for k in ent.keys():\n",
    "    for k2 in ent[k]:\n",
    "        download_list.append(k2[\"downloads\"])\n",
    "for k1 in ent.keys():\n",
    "    for k3 in ent[k1]:\n",
    "        start_date.append(k3[\"start\"])\n",
    "#map, reduce, filter, lambda\n",
    "log_list = [math.log(x+1) for x in download_list]\n",
    "difference_list = []\n",
    "for i in range(1,len(log_list)-1):\n",
    "    dif = log_list[i] - log_list[i-1]\n",
    "    difference_list.append( (log_list[i] - log_list[i-1]))\n",
    "    if dif > 2:\n",
    "        print(\"Start date of spike: \" +start_date[i])\n",
    "    if dif < -1.5:\n",
    "        print(\"Start date of fall: \" +start_date[i])\n",
    "print(difference_list)\n",
    "#print(log_list)\n",
    "#print(download_list)\n"
   ]
  },
  {
   "cell_type": "code",
   "execution_count": 1,
   "metadata": {},
   "outputs": [
    {
     "ename": "NameError",
     "evalue": "name 'ent' is not defined",
     "output_type": "error",
     "traceback": [
      "\u001b[0;31m---------------------------------------------------------------------------\u001b[0m",
      "\u001b[0;31mNameError\u001b[0m                                 Traceback (most recent call last)",
      "\u001b[0;32m<ipython-input-1-4dd98045aaf3>\u001b[0m in \u001b[0;36m<module>\u001b[0;34m()\u001b[0m\n\u001b[1;32m      5\u001b[0m \u001b[0mdownload_list\u001b[0m \u001b[0;34m=\u001b[0m \u001b[0;34m[\u001b[0m\u001b[0;34m]\u001b[0m\u001b[0;34m\u001b[0m\u001b[0m\n\u001b[1;32m      6\u001b[0m \u001b[0;34m\u001b[0m\u001b[0m\n\u001b[0;32m----> 7\u001b[0;31m \u001b[0;32mfor\u001b[0m \u001b[0mk\u001b[0m \u001b[0;32min\u001b[0m \u001b[0ment\u001b[0m\u001b[0;34m.\u001b[0m\u001b[0mkeys\u001b[0m\u001b[0;34m(\u001b[0m\u001b[0;34m)\u001b[0m\u001b[0;34m:\u001b[0m\u001b[0;34m\u001b[0m\u001b[0m\n\u001b[0m\u001b[1;32m      8\u001b[0m     \u001b[0;32mfor\u001b[0m \u001b[0mk2\u001b[0m \u001b[0;32min\u001b[0m \u001b[0ment\u001b[0m\u001b[0;34m[\u001b[0m\u001b[0mk\u001b[0m\u001b[0;34m]\u001b[0m\u001b[0;34m:\u001b[0m\u001b[0;34m\u001b[0m\u001b[0m\n\u001b[1;32m      9\u001b[0m         \u001b[0mdownload_list\u001b[0m\u001b[0;34m.\u001b[0m\u001b[0mappend\u001b[0m\u001b[0;34m(\u001b[0m\u001b[0mk2\u001b[0m\u001b[0;34m[\u001b[0m\u001b[0;34m\"downloads\"\u001b[0m\u001b[0;34m]\u001b[0m\u001b[0;34m)\u001b[0m\u001b[0;34m\u001b[0m\u001b[0m\n",
      "\u001b[0;31mNameError\u001b[0m: name 'ent' is not defined"
     ]
    }
   ],
   "source": []
  }
 ],
 "metadata": {
  "kernelspec": {
   "display_name": "Python 3",
   "language": "python",
   "name": "python3"
  },
  "language_info": {
   "codemirror_mode": {
    "name": "ipython",
    "version": 3
   },
   "file_extension": ".py",
   "mimetype": "text/x-python",
   "name": "python",
   "nbconvert_exporter": "python",
   "pygments_lexer": "ipython3",
   "version": "3.5.2"
  }
 },
 "nbformat": 4,
 "nbformat_minor": 2
}
